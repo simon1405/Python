{
 "cells": [
  {
   "cell_type": "markdown",
   "metadata": {},
   "source": [
    "# Getting Python\n",
    "\n",
    "\n",
    "For this course, we are going to use Jupyter notebook as our environment for developing Python code.\n",
    "refer to https://jupyter.readthedocs.io/en/latest/content-quickstart.html on the instructions how to install it, the easiest way is to install from Anaconda (https://www.anaconda.com/download/) website, make sure you install (Version 4.4.0, Release Date: May 31, 2017) with Python 3.6.\n",
    "\n",
    "Also, it is good for the students who are not familiar with python (or they need a quick refreshment) to follow Jim Bagrow tutorial http://bagrow.com/ds1/whirlwindtourpython/00-Title.html. \n",
    "\n",
    "All the assignments to be written in Python 3.6 and can be run using Jupyter on one of the following Internet browsers (Chrome, Safari or Firefox), these are the browsers that officially supported by jupyter.\n",
    "\n",
    "<u> Note: for this assignment, submit your local copy of this page, running on IPython. Submit the file to Blackboard under Assignment1 using this file format:</u> <b>Yourfirstname_lastname_Assignment4.ipynb</b> \n",
    "\n",
    "#### <b>Deadline</b>: <u>Monday, Dec-04-2017 11:59 PM.</u>"
   ]
  },
  {
   "cell_type": "markdown",
   "metadata": {},
   "source": [
    "## Assignment 4\n",
    "\n",
    "In assignment 4 use tensor flow to build and train neural network architectures in part1 and part2.\n",
    "Hint: Refer to the MLP.ipynb from the shared documents on the black borad as an example to build and train a neural network using tensor flow from scratch.\n",
    "  "
   ]
  },
  {
   "cell_type": "markdown",
   "metadata": {},
   "source": [
    "#### Part 1\n",
    "In this part you are going to train a neural network on notMNIST dataset. The notMNIST dataset is a image recognition dataset of font glypyhs for the letters A through J useful with simple neural networks. It is quite similar to the classic MNIST dataset of handwritten digits 0 through 9. to make easy for you. the code below will load the notMNIST dataset into train, validation and testing arrays to use them during the training of the network.  \n",
    "you need to download notMNIST.data from this link ...\n",
    "\n",
    "https://drive.google.com/file/d/1ablp83xroWod-Mfr0dGlVM49YXNm32l7/view?usp=sharing"
   ]
  },
  {
   "cell_type": "code",
   "execution_count": 1,
   "metadata": {},
   "outputs": [
    {
     "name": "stdout",
     "output_type": "stream",
     "text": [
      "Training set (200000, 28, 28) (200000,)\n",
      "Validation set (10000, 28, 28) (10000,)\n",
      "Test set (10000, 28, 28) (10000,)\n"
     ]
    }
   ],
   "source": [
    "from six.moves import cPickle as loader\n",
    "from six.moves import range\n",
    "\n",
    "data_file = 'notMNIST.data'\n",
    "\n",
    "with open(data_file, 'rb') as f:\n",
    "    data = loader.load(f)\n",
    "    train_dataset = data['train_dataset']\n",
    "    train_labels = data['train_labels']\n",
    "    valid_dataset = data['valid_dataset']\n",
    "    valid_labels = data['valid_labels']\n",
    "    test_dataset = data['test_dataset']\n",
    "    test_labels = data['test_labels']\n",
    "    del data \n",
    "\n",
    "    print('Training set', train_dataset.shape, train_labels.shape)\n",
    "    print('Validation set', valid_dataset.shape, valid_labels.shape)\n",
    "    print('Test set', test_dataset.shape, test_labels.shape)"
   ]
  },
  {
   "cell_type": "code",
   "execution_count": 29,
   "metadata": {
    "collapsed": true,
    "scrolled": false
   },
   "outputs": [],
   "source": [
    "import tensorflow as tf\n",
    "import matplotlib.pyplot as plt\n",
    "import numpy as np\n",
    "from sklearn.preprocessing import OneHotEncoder\n",
    "import math"
   ]
  },
  {
   "cell_type": "markdown",
   "metadata": {},
   "source": [
    "a. Convince yourself about the data by showing few  images and printing the size of train/test/validation data arrays.[10 points]"
   ]
  },
  {
   "cell_type": "code",
   "execution_count": 3,
   "metadata": {},
   "outputs": [
    {
     "data": {
      "image/png": "[encoded data removed]",
      "text/plain": [
       "<matplotlib.figure.Figure at 0x13a8a4914a8>"
      ]
     },
     "metadata": {},
     "output_type": "display_data"
    },
    {
     "data": {
      "image/png": "[encoded data removed]",
      "text/plain": [
       "<matplotlib.figure.Figure at 0x13a8c547e10>"
      ]
     },
     "metadata": {},
     "output_type": "display_data"
    },
    {
     "data": {
      "image/png": "[encoded data removed]",
      "text/plain": [
       "<matplotlib.figure.Figure at 0x13a8d5b41d0>"
      ]
     },
     "metadata": {},
     "output_type": "display_data"
    },
    {
     "name": "stdout",
     "output_type": "stream",
     "text": [
      "Training set (200000, 28, 28) (200000,)\n",
      "Validation set (10000, 28, 28) (10000,)\n",
      "Test set (10000, 28, 28) (10000,)\n"
     ]
    }
   ],
   "source": [
    "for i in range(3):\n",
    "    z=train_dataset[i]\n",
    "    # Plot the grid\n",
    "    plt.imshow(z)\n",
    "    plt.gray()\n",
    "    plt.show()\n",
    "\n",
    "print('Training set', train_dataset.shape, train_labels.shape)\n",
    "print('Validation set', valid_dataset.shape, valid_labels.shape)\n",
    "print('Test set', test_dataset.shape, test_labels.shape)"
   ]
  },
  {
   "cell_type": "markdown",
   "metadata": {},
   "source": [
    "b.  Reformat data to shape that's make it easy to train neural network models:\n",
    "-\t Reshape the data to a flat matrix.[5 points]. Hint: For example convert training dataset to have (200000, 784) shape, do the same for the rest of the arrays.\n",
    "-\t Reformat the output to 1-hot encodings. [5 points]\n"
   ]
  },
  {
   "cell_type": "code",
   "execution_count": 4,
   "metadata": {
    "collapsed": true
   },
   "outputs": [],
   "source": [
    "def flat_convert_2to1(dataset,length = 784):\n",
    "    converted_dataset = []\n",
    "    for img in dataset:\n",
    "        converted_dataset.append(img.reshape(length))\n",
    "    converted_dataset= np.array(converted_dataset)\n",
    "    return converted_dataset"
   ]
  },
  {
   "cell_type": "code",
   "execution_count": 5,
   "metadata": {
    "scrolled": true
   },
   "outputs": [
    {
     "name": "stdout",
     "output_type": "stream",
     "text": [
      "Training set (200000, 784)\n",
      "Validation set (10000, 784)\n",
      "Test set (10000, 784)\n"
     ]
    }
   ],
   "source": [
    "converted_train_dataset = flat_convert_2to1(train_dataset)\n",
    "converted_valid_dataset = flat_convert_2to1(valid_dataset)\n",
    "converted_test_dataset = flat_convert_2to1(test_dataset)\n",
    "\n",
    "print('Training set', converted_train_dataset.shape)\n",
    "print('Validation set', converted_valid_dataset.shape)\n",
    "print('Test set', converted_test_dataset.shape)"
   ]
  },
  {
   "cell_type": "code",
   "execution_count": 6,
   "metadata": {
    "scrolled": true
   },
   "outputs": [
    {
     "name": "stdout",
     "output_type": "stream",
     "text": [
      "Training set (200000, 10)\n",
      "Validation set (10000, 10)\n",
      "Test set (10000, 10)\n"
     ]
    }
   ],
   "source": [
    "enc = OneHotEncoder()\n",
    "train_onehot_output = enc.fit_transform(train_labels.reshape(len(train_labels),1)).toarray()\n",
    "valid_onehot_output = enc.fit_transform(valid_labels.reshape(len(valid_labels),1)).toarray()\n",
    "test_onehot_output = enc.fit_transform(test_labels.reshape(len(test_labels),1)).toarray()\n",
    "\n",
    "print('Training set', train_onehot_output.shape)\n",
    "print('Validation set', valid_onehot_output.shape)\n",
    "print('Test set', test_onehot_output.shape)"
   ]
  },
  {
   "cell_type": "markdown",
   "metadata": {},
   "source": [
    "c. Refer to the neural network lecture to answer the following questions (no need to code or to show experimental results for this question) [15 points]:\n",
    "- the best activation function.\n",
    "- the best initialization.\n",
    "- Best gradient descent update learning rule. \n",
    "    "
   ]
  },
  {
   "cell_type": "markdown",
   "metadata": {
    "collapsed": true
   },
   "source": [
    "## Answer for part1.c :\n",
    "\n",
    "- **the best activation function**:  \n",
    "    The leaky relu activation fucntion\n",
    "- **the best initialization**:    \n",
    "    xavier initialization\n",
    "- **Best gradient descent update learning rule**:    \n",
    "    AdamOptimize"
   ]
  },
  {
   "cell_type": "markdown",
   "metadata": {},
   "source": [
    "d. Train a multi-layer neural network of one hidden layer neural network using the best: activation, initialization and gradient descent learning rule that you found in the previous question. \n",
    "Train for 15 epochs with a  batch size of 128 and pick the model that has less validation error and report the testing error for that model. Use the accuracy metric to measure the performance. [35 points]\n"
   ]
  },
  {
   "cell_type": "code",
   "execution_count": 9,
   "metadata": {},
   "outputs": [
    {
     "name": "stdout",
     "output_type": "stream",
     "text": [
      "network is ready ...\n"
     ]
    }
   ],
   "source": [
    "# define the network toplogies, two hidden neural network with input diminsion of 784 \n",
    "# and output diminsion of 10\n",
    "\n",
    "n_hidden_1 = 256 \n",
    "n_input    = 784 \n",
    "n_classes  = 10  \n",
    "\n",
    "# placeholder for input and output, None: means it could be of any diminsion\n",
    "x = tf.placeholder(\"float\", [None, n_input], name = 'x')\n",
    "y = tf.placeholder(\"float\", [None, n_classes], name = 'y')\n",
    "phase = tf.placeholder(tf.bool, name='phase')\n",
    "\n",
    "initializer = tf.contrib.layers.xavier_initializer()\n",
    "\n",
    "# network parameters \n",
    "stddev = 0.1\n",
    "weights = {\n",
    "    'h1': tf.Variable(initializer((n_input,n_hidden_1))),\n",
    "    'out': tf.Variable(initializer((n_hidden_1,n_classes)))\n",
    "}\n",
    "biases = {\n",
    "    'b1': tf.Variable(initializer([n_hidden_1])),\n",
    "    'out': tf.Variable(initializer([n_classes]))\n",
    "}\n",
    "print (\"network is ready ...\")\n"
   ]
  },
  {
   "cell_type": "code",
   "execution_count": 10,
   "metadata": {
    "collapsed": true
   },
   "outputs": [],
   "source": [
    "def multilayer_perceptron(_X, _weights, _biases):\n",
    "    layer_1 = tf.nn.leaky_relu(tf.add(tf.matmul(_X, _weights['h1']), _biases['b1'])) \n",
    "    return (tf.matmul(layer_1, _weights['out']) + _biases['out'])"
   ]
  },
  {
   "cell_type": "code",
   "execution_count": 11,
   "metadata": {},
   "outputs": [
    {
     "name": "stdout",
     "output_type": "stream",
     "text": [
      "ready to go ...\n"
     ]
    }
   ],
   "source": [
    "# build the network graph\n",
    "pred = multilayer_perceptron(x, weights, biases)\n",
    "\n",
    "# use softmax cross entropy as the loss(cost) function\n",
    "cost = tf.reduce_mean(tf.nn.softmax_cross_entropy_with_logits(logits = pred, labels=y)) \n",
    "# define optimizer\n",
    "optm = tf.train.AdamOptimizer().minimize(cost)\n",
    "# measuring the accuracy\n",
    "corr = tf.equal(tf.argmax(pred, 1), tf.argmax(y, 1))\n",
    "accr = tf.reduce_mean(tf.cast(corr, \"float\"))\n",
    "\n",
    "# initilize all the graph parameters.\n",
    "init = tf.global_variables_initializer()\n",
    "print (\"ready to go ...\")"
   ]
  },
  {
   "cell_type": "code",
   "execution_count": 12,
   "metadata": {
    "collapsed": true,
    "scrolled": false
   },
   "outputs": [],
   "source": [
    "def train_MLP(save_path = \"/tmp_model/best_model.ckpt\"):\n",
    "    # Training params\n",
    "    training_epochs = 15\n",
    "    batch_size      = 128 # use mini-batch, we will disucss this next lecture\n",
    "    display_step    = 3 # display results every 4 epochs\n",
    "\n",
    "    #create the saver to save the best model.\n",
    "    saver = tf.train.Saver()\n",
    "    # launch the graph using Session()\n",
    "    sess = tf.Session()\n",
    "    # run with the initiales\n",
    "    sess.run(init)\n",
    "\n",
    "    # optimization code, we used here stochastic gradient descent SGD.\n",
    "    best_vaild_accs = 0\n",
    "    for epoch in range(training_epochs):\n",
    "        sample_num = len(converted_train_dataset)\n",
    "        avg_cost = 0.\n",
    "        total_batch = int(sample_num/batch_size)\n",
    "        # iterate\n",
    "        for i in range(total_batch):\n",
    "            start = i*batch_size\n",
    "            end = i*batch_size + batch_size-1\n",
    "            batch_xs, batch_ys = converted_train_dataset[start:end]\\\n",
    "                                , train_onehot_output[start:end]\n",
    "            feeds = {x: batch_xs, y: batch_ys}\n",
    "            sess.run(optm, feed_dict=feeds)\n",
    "            avg_cost += sess.run(cost, feed_dict=feeds) # to calculate the cost, you can skip\n",
    "        avg_cost = avg_cost / total_batch\n",
    "\n",
    "        #save the best neural network\n",
    "        feeds = {x: batch_xs, y: batch_ys}\n",
    "        train_acc = sess.run(accr, feed_dict=feeds)\n",
    "        feeds = {x: converted_valid_dataset, y: valid_onehot_output}\n",
    "        valid_acc = sess.run(accr, feed_dict=feeds)\n",
    "        if(valid_acc > best_vaild_accs): \n",
    "            best_vaild_accs = valid_acc\n",
    "            saver.save(sess,save_path)\n",
    "        # display\n",
    "        if (epoch+1) % display_step == 0:\n",
    "            print (\"Epoch: %03d/%03d cost: %.9f\" % (epoch+1, training_epochs, avg_cost))\n",
    "            print (\"Train Accuracy: %.3f\" % (train_acc))\n",
    "            print (\"Valid Accuracy: %.3f\" % (valid_acc))    \n",
    "\n",
    "    #get the best neural network\n",
    "    saver.restore(sess, save_path)\n",
    "    print (\"\\nThe best valid Accuracy: %.3f\" % (best_vaild_accs)) \n",
    "    feeds = {x: converted_test_dataset, y: test_onehot_output}\n",
    "    test_acc = sess.run(accr, feed_dict=feeds)   \n",
    "    print (\"Test Accuracy: %.3f\" % (test_acc))\n",
    "    print (\"Test error: %.3f\" % (1 - test_acc))\n",
    "    print (\"optimization finished\")\n",
    "    sess.close()"
   ]
  },
  {
   "cell_type": "code",
   "execution_count": 13,
   "metadata": {},
   "outputs": [
    {
     "name": "stdout",
     "output_type": "stream",
     "text": [
      "Epoch: 003/015 cost: 0.358490747\n",
      "Train Accuracy: 0.850\n",
      "Valid Accuracy: 0.880\n",
      "Epoch: 006/015 cost: 0.298352629\n",
      "Train Accuracy: 0.882\n",
      "Valid Accuracy: 0.886\n",
      "Epoch: 009/015 cost: 0.261446621\n",
      "Train Accuracy: 0.898\n",
      "Valid Accuracy: 0.889\n",
      "Epoch: 012/015 cost: 0.233463887\n",
      "Train Accuracy: 0.913\n",
      "Valid Accuracy: 0.890\n",
      "Epoch: 015/015 cost: 0.210546389\n",
      "Train Accuracy: 0.937\n",
      "Valid Accuracy: 0.889\n",
      "\n",
      "The best valid Accuracy: 0.890\n",
      "Test Accuracy: 0.945\n",
      "Test error: 0.055\n",
      "optimization finished\n"
     ]
    }
   ],
   "source": [
    "train_MLP()"
   ]
  },
  {
   "cell_type": "markdown",
   "metadata": {},
   "source": [
    "e. (This part for graduate students only) Which regularization method is the best to use, L2, dropout or Batch Normalization (justify your answer experimentally). does the batch normalization help in converging the network faster ? [30 points]\n"
   ]
  },
  {
   "cell_type": "markdown",
   "metadata": {},
   "source": [
    "#### Answer:\n",
    "** As shown below, I think the dropout is the best regularzion method**"
   ]
  },
  {
   "cell_type": "markdown",
   "metadata": {},
   "source": [
    "### L2"
   ]
  },
  {
   "cell_type": "code",
   "execution_count": 14,
   "metadata": {
    "collapsed": true,
    "scrolled": false
   },
   "outputs": [],
   "source": [
    "#L2\n",
    "\n",
    "# Original cost function\n",
    "cost = tf.reduce_mean(tf.nn.softmax_cross_entropy_with_logits(logits = pred, labels=y)) \n",
    "# add l2 regulazation\n",
    "beta = 0.01\n",
    "regularizer = tf.nn.l2_loss(weights['h1']) + tf.nn.l2_loss(weights['out'])\n",
    "cost = tf.reduce_mean(cost + beta * regularizer)\n",
    "optm = tf.train.AdamOptimizer().minimize(cost)\n",
    "init = tf.global_variables_initializer()"
   ]
  },
  {
   "cell_type": "code",
   "execution_count": 15,
   "metadata": {},
   "outputs": [
    {
     "name": "stdout",
     "output_type": "stream",
     "text": [
      "Epoch: 003/015 cost: 0.728255881\n",
      "Train Accuracy: 0.819\n",
      "Valid Accuracy: 0.830\n",
      "Epoch: 006/015 cost: 0.719555619\n",
      "Train Accuracy: 0.819\n",
      "Valid Accuracy: 0.830\n",
      "Epoch: 009/015 cost: 0.716368231\n",
      "Train Accuracy: 0.819\n",
      "Valid Accuracy: 0.834\n",
      "Epoch: 012/015 cost: 0.714818664\n",
      "Train Accuracy: 0.827\n",
      "Valid Accuracy: 0.835\n",
      "Epoch: 015/015 cost: 0.713945810\n",
      "Train Accuracy: 0.819\n",
      "Valid Accuracy: 0.835\n",
      "\n",
      "The best valid Accuracy: 0.835\n",
      "Test Accuracy: 0.901\n",
      "Test error: 0.099\n",
      "optimization finished\n"
     ]
    }
   ],
   "source": [
    "train_MLP()"
   ]
  },
  {
   "cell_type": "markdown",
   "metadata": {},
   "source": [
    "### Dropout"
   ]
  },
  {
   "cell_type": "code",
   "execution_count": 16,
   "metadata": {},
   "outputs": [
    {
     "name": "stdout",
     "output_type": "stream",
     "text": [
      "ready to go ...\n"
     ]
    }
   ],
   "source": [
    "#dropout\n",
    "# prepare the graph\n",
    "keep_prob = tf.placeholder(\"float\")\n",
    "save_path = \"/tmp_model/best_model.ckpt\"\n",
    "def multilayer_perceptron_dropout(_X, _weights, _biases):\n",
    "    layer_1 = tf.nn.leaky_relu(tf.add(tf.matmul(_X, _weights['h1']), _biases['b1'])) \n",
    "    drop_out = tf.nn.dropout(layer_1, keep_prob)\n",
    "    return (tf.matmul(layer_1, _weights['out']) + _biases['out'])\n",
    "\n",
    "# build the network graph\n",
    "pred_drop_out = multilayer_perceptron_dropout(x, weights, biases)\n",
    "\n",
    "# use softmax cross entropy as the loss(cost) function\n",
    "cost = tf.reduce_mean(tf.nn.softmax_cross_entropy_with_logits(logits = pred_drop_out, labels=y)) \n",
    "\n",
    "corr = tf.equal(tf.argmax(pred_drop_out, 1), tf.argmax(y, 1))\n",
    "accr = tf.reduce_mean(tf.cast(corr, \"float\"))\n",
    "# define optimizer\n",
    "optm = tf.train.AdamOptimizer().minimize(cost)\n",
    "\n",
    "# initilize all the graph parameters.\n",
    "init = tf.global_variables_initializer()\n",
    "print (\"ready to go ...\")"
   ]
  },
  {
   "cell_type": "code",
   "execution_count": 17,
   "metadata": {
    "scrolled": false
   },
   "outputs": [
    {
     "name": "stdout",
     "output_type": "stream",
     "text": [
      "Epoch: 003/015 cost: 0.357939605\n",
      "Train Accuracy: 0.850\n",
      "Valid Accuracy: 0.880\n",
      "Epoch: 006/015 cost: 0.299080095\n",
      "Train Accuracy: 0.874\n",
      "Valid Accuracy: 0.887\n",
      "Epoch: 009/015 cost: 0.263168589\n",
      "Train Accuracy: 0.898\n",
      "Valid Accuracy: 0.888\n",
      "Epoch: 012/015 cost: 0.235682250\n",
      "Train Accuracy: 0.913\n",
      "Valid Accuracy: 0.886\n",
      "Epoch: 015/015 cost: 0.212868331\n",
      "Train Accuracy: 0.921\n",
      "Valid Accuracy: 0.886\n",
      "\n",
      "The best valid Accuracy: 0.888\n",
      "Test Accuracy: 0.947\n",
      "Test error: 0.053\n",
      "optimization finished\n"
     ]
    }
   ],
   "source": [
    "# Training params\n",
    "training_epochs = 15\n",
    "batch_size      = 128 # use mini-batch, we will disucss this next lecture\n",
    "display_step    = 3 # display results every 4 epochs\n",
    "\n",
    "#create the saver to save the best model.\n",
    "saver = tf.train.Saver()\n",
    "# launch the graph using Session()\n",
    "sess = tf.Session()\n",
    "# run with the initiales\n",
    "sess.run(init)\n",
    "\n",
    "# optimization code, we used here stochastic gradient descent SGD.\n",
    "best_vaild_accs = 0\n",
    "for epoch in range(training_epochs):\n",
    "    sample_num = len(converted_train_dataset)\n",
    "    avg_cost = 0.\n",
    "    total_batch = int(sample_num/batch_size)\n",
    "    # iterate\n",
    "    for i in range(total_batch):\n",
    "        start = i*batch_size\n",
    "        end = i*batch_size + batch_size-1\n",
    "        batch_xs, batch_ys = converted_train_dataset[start:end]\\\n",
    "                            , train_onehot_output[start:end]\n",
    "        feeds = {x: batch_xs, y: batch_ys, keep_prob : 0.5}\n",
    "        sess.run(optm, feed_dict=feeds)\n",
    "        avg_cost += sess.run(cost, feed_dict=feeds) # to calculate the cost, you can skip\n",
    "    avg_cost = avg_cost / total_batch\n",
    "\n",
    "    #save the best neural network\n",
    "    feeds = {x: batch_xs, y: batch_ys, keep_prob : 0.5}\n",
    "    train_acc = sess.run(accr, feed_dict=feeds)\n",
    "    feeds = {x: converted_valid_dataset, y: valid_onehot_output, keep_prob : 1}\n",
    "    valid_acc = sess.run(accr, feed_dict=feeds)\n",
    "    if(valid_acc > best_vaild_accs): \n",
    "        best_vaild_accs = valid_acc\n",
    "        saver.save(sess,save_path)\n",
    "    # display\n",
    "    if (epoch+1) % display_step == 0:\n",
    "        print (\"Epoch: %03d/%03d cost: %.9f\" % (epoch+1, training_epochs, avg_cost))\n",
    "        print (\"Train Accuracy: %.3f\" % (train_acc))\n",
    "        print (\"Valid Accuracy: %.3f\" % (valid_acc))    \n",
    "\n",
    "#get the best neurla network\n",
    "saver.restore(sess, save_path)\n",
    "print (\"\\nThe best valid Accuracy: %.3f\" % (best_vaild_accs)) \n",
    "feeds = {x: converted_test_dataset, y: test_onehot_output, keep_prob : 1}\n",
    "test_acc = sess.run(accr, feed_dict=feeds)   \n",
    "print (\"Test Accuracy: %.3f\" % (test_acc))\n",
    "print (\"Test error: %.3f\" % (1 - test_acc))\n",
    "\n",
    "print (\"optimization finished\")\n",
    "sess.close()"
   ]
  },
  {
   "cell_type": "markdown",
   "metadata": {},
   "source": [
    "### Batch Normalization"
   ]
  },
  {
   "cell_type": "code",
   "execution_count": 18,
   "metadata": {},
   "outputs": [
    {
     "name": "stdout",
     "output_type": "stream",
     "text": [
      "ready to go ...\n"
     ]
    }
   ],
   "source": [
    "# Batch\n",
    "# prepare the graph\n",
    "save_path = \"/tmp_model/best_model.ckpt\"\n",
    "\n",
    "def multilayer_perceptron_batch_norm(_X, _weights, _biases, phase):\n",
    "    layer_1 = tf.add(tf.matmul(_X, _weights['h1']), _biases['b1'])\n",
    "    layer_1_batch = tf.nn.leaky_relu(tf.contrib.layers.batch_norm(layer_1, center=True, scale=True, is_training=phase)) \n",
    "    return (tf.matmul(layer_1_batch, _weights['out']) + _biases['out'])\n",
    "\n",
    "# build the network graph\n",
    "pred_drop_batch = multilayer_perceptron_batch_norm(x, weights, biases, phase)\n",
    "\n",
    "# use softmax cross entropy as the loss(cost) function\n",
    "cost = tf.reduce_mean(tf.nn.softmax_cross_entropy_with_logits(logits = pred_drop_batch, labels=y)) \n",
    "\n",
    "corr = tf.equal(tf.argmax(pred_drop_batch, 1), tf.argmax(y, 1))\n",
    "accr = tf.reduce_mean(tf.cast(corr, \"float\"))\n",
    "# define optimizer\n",
    "optm = tf.train.AdamOptimizer().minimize(cost)\n",
    "\n",
    "# initilize all the graph parameters.\n",
    "init = tf.global_variables_initializer()\n",
    "print (\"ready to go ...\")"
   ]
  },
  {
   "cell_type": "code",
   "execution_count": 19,
   "metadata": {
    "scrolled": false
   },
   "outputs": [
    {
     "name": "stdout",
     "output_type": "stream",
     "text": [
      "Epoch: 003/015 cost: 0.370271618\n",
      "Train Accuracy: 0.843\n",
      "Valid Accuracy: 0.803\n",
      "Epoch: 006/015 cost: 0.307809553\n",
      "Train Accuracy: 0.874\n",
      "Valid Accuracy: 0.783\n",
      "Epoch: 009/015 cost: 0.269975222\n",
      "Train Accuracy: 0.906\n",
      "Valid Accuracy: 0.770\n",
      "Epoch: 012/015 cost: 0.241041594\n",
      "Train Accuracy: 0.913\n",
      "Valid Accuracy: 0.763\n",
      "Epoch: 015/015 cost: 0.217135365\n",
      "Train Accuracy: 0.913\n",
      "Valid Accuracy: 0.764\n",
      "\n",
      "The best valid Accuracy: 0.803\n",
      "Test Accuracy: 0.871\n",
      "Test error: 0.129\n",
      "optimization finished\n"
     ]
    }
   ],
   "source": [
    "# Training params\n",
    "training_epochs = 15\n",
    "batch_size      = 128 # use mini-batch, we will disucss this next lecture\n",
    "display_step    = 3 # display results every 4 epochs\n",
    "\n",
    "#create the saver to save the best model.\n",
    "saver = tf.train.Saver()\n",
    "# launch the graph using Session()\n",
    "sess = tf.Session()\n",
    "# run with the initiales\n",
    "sess.run(init)\n",
    "\n",
    "# optimization code, we used here stochastic gradient descent SGD.\n",
    "best_vaild_accs = 0\n",
    "for epoch in range(training_epochs):\n",
    "    sample_num = len(converted_train_dataset)\n",
    "    avg_cost = 0.\n",
    "    total_batch = int(sample_num/batch_size)\n",
    "    # iterate\n",
    "    for i in range(total_batch):\n",
    "        start = i*batch_size\n",
    "        end = i*batch_size + batch_size-1\n",
    "        batch_xs, batch_ys = converted_train_dataset[start:end]\\\n",
    "                            , train_onehot_output[start:end]\n",
    "        feeds = {x: batch_xs, y: batch_ys, phase : True}\n",
    "        sess.run(optm, feed_dict=feeds)\n",
    "        avg_cost += sess.run(cost, feed_dict=feeds) # to calculate the cost, you can skip\n",
    "    avg_cost = avg_cost / total_batch\n",
    "\n",
    "    #save the best neural network \n",
    "    # display\n",
    "    if (epoch+1) % display_step == 0:\n",
    "        print (\"Epoch: %03d/%03d cost: %.9f\" % (epoch+1, training_epochs, avg_cost))\n",
    "        feeds = {x: batch_xs, y: batch_ys, phase : True}\n",
    "        train_acc = sess.run(accr, feed_dict=feeds)\n",
    "        print (\"Train Accuracy: %.3f\" % (train_acc))\n",
    "        feeds = {x: converted_valid_dataset, y: valid_onehot_output, phase : False}\n",
    "        valid_acc = sess.run(accr, feed_dict=feeds)\n",
    "        print (\"Valid Accuracy: %.3f\" % (valid_acc))    \n",
    "        if(valid_acc > best_vaild_accs): \n",
    "            best_vaild_accs = valid_acc\n",
    "            saver.save(sess,save_path)\n",
    "\n",
    "#get the best neural network\n",
    "saver.restore(sess, save_path)\n",
    "print (\"\\nThe best valid Accuracy: %.3f\" % (best_vaild_accs)) \n",
    "feeds = {x: converted_test_dataset, y: test_onehot_output, phase : False}\n",
    "test_acc = sess.run(accr, feed_dict=feeds)   \n",
    "print (\"Test Accuracy: %.3f\" % (test_acc))\n",
    "print (\"Test error: %.3f\" % (1 - test_acc))\n",
    "\n",
    "print (\"optimization finished\")\n",
    "sess.close()"
   ]
  },
  {
   "cell_type": "markdown",
   "metadata": {},
   "source": [
    "## Part 2"
   ]
  },
  {
   "cell_type": "markdown",
   "metadata": {},
   "source": [
    "(This whole part is for graduate students only) In this part you are going to train a convolutional neural network on notMNIST dataset, refer to part1 to use same training, validation and testing datasets. \n",
    "\n",
    "Start by reading the Deep MNIST for Experts tutorial on the tensorflow website (https://www.tensorflow.org/get_started/mnist/pros). \n",
    "Go through the examples provided in this tutorial. \n",
    "\n",
    "\n",
    "in here we are going to build a different network. It’d be helpful to quickly go through the examples provided in the tutorial.\n"
   ]
  },
  {
   "cell_type": "markdown",
   "metadata": {},
   "source": [
    "a. Define the model as indicated in the code below. The model is defined as follows:\n",
    "\n",
    "- An input that is 728 dimensional vector.\n",
    "- Reshape the input as 28x28x1 images (only 1 because they are grey scale)\n",
    "- A convolutional layer with 25 filters of shape 12x12x1 and a ReLU non-linearity (with stride (2, 2) and no padding)\n",
    "- A convolutional layer with 64 filters of shape 5x5x25 and a ReLU non-linearity (with stride (1, 2) and padding to maintain size)\n",
    "- A max_pooling layer of shape 2x2\n",
    "- A fully connected layer taking all the outputs of the max_pooling layer to 1024 units and ReLU nonlinearity\n",
    "- A fully connected layer taking 1024 units to 10 no activation function (the softmax non-linearity will be included in the loss function rather than in the model) [15 points]\n",
    "\n",
    "Hint: start from known architecture then modify the code to match the numbers listed above, you might need to have flat layer that flatten max pool layer data."
   ]
  },
  {
   "cell_type": "code",
   "execution_count": 20,
   "metadata": {
    "collapsed": true
   },
   "outputs": [],
   "source": [
    "def conv2d(x, W, strides = [1, 2, 2, 1], padding='SAME'):\n",
    "    \"\"\"conv2d returns a 2d convolution layer with full stride.\"\"\"\n",
    "    return tf.nn.conv2d(x, W, strides, padding)\n",
    "\n",
    "\n",
    "def max_pool_2x2(x):\n",
    "    \"\"\"max_pool_2x2 downsamples a feature map by 2X.\"\"\"\n",
    "    return tf.nn.max_pool(x, ksize=[1, 2, 2, 1],\n",
    "                        strides=[1, 2, 2, 1], padding='SAME')\n",
    "\n",
    "def weight_variable(shape):\n",
    "    \"\"\"weight_variable generates a weight variable of a given shape.\"\"\"\n",
    "    initial = tf.truncated_normal(shape, stddev=0.1)\n",
    "    return tf.Variable(initial)\n",
    "\n",
    "\n",
    "def bias_variable(shape):\n",
    "    \"\"\"bias_variable generates a bias variable of a given shape.\"\"\"\n",
    "    initial = tf.constant(0.1, shape=shape)\n",
    "    return tf.Variable(initial)"
   ]
  },
  {
   "cell_type": "code",
   "execution_count": 21,
   "metadata": {
    "collapsed": true
   },
   "outputs": [],
   "source": [
    "def deepnn(x):\n",
    "    \"\"\"deepnn builds the graph for a deep net for classifying digits.\n",
    "    Args:\n",
    "    x: an input tensor with the dimensions (N_examples, 784), where 784 is the\n",
    "    number of pixels in a standard MNIST image.\n",
    "    Returns:\n",
    "    A tuple (y, keep_prob). y is a tensor of shape (N_examples, 10), with values\n",
    "    equal to the logits of classifying the digit into one of 10 classes (the\n",
    "    digits 0-9). keep_prob is a scalar placeholder for the probability of\n",
    "    dropout.\n",
    "    \"\"\"\n",
    "    # Reshape to use within a convolutional neural net.\n",
    "    # Last dimension is for \"features\" - there is only one here, since images are\n",
    "    # grayscale -- it would be 3 for an RGB image, 4 for RGBA, etc.\n",
    "    with tf.name_scope('reshape'):\n",
    "        x_image = tf.reshape(x, [-1, 28, 28, 1])\n",
    "   # print(\"x_image\", x_image.shape)\n",
    "    # First convolutional layer - maps one grayscale image to  feature maps.\n",
    "    with tf.name_scope('conv1'):\n",
    "        W_conv1 = weight_variable([12, 12, 1, 25])\n",
    "        b_conv1 = bias_variable([25])\n",
    "        h_conv1 = tf.nn.relu(conv2d(x_image, W_conv1,strides = [1,2,2,1], padding = 'VALID') + b_conv1)\n",
    "    #print(\"h_conv1\", h_conv1.shape)\n",
    "    # Second convolutional layer -- maps 25 feature maps to 64.\n",
    "    with tf.name_scope('conv2'):\n",
    "        W_conv2 = weight_variable([5, 5, 25, 64])\n",
    "        b_conv2 = bias_variable([64])\n",
    "        h_conv2 = tf.nn.relu(conv2d(h_conv1, W_conv2,strides = [1,1,2,1], padding = 'SAME') + b_conv2)\n",
    "    #print(\"h_conv2\", h_conv2.shape)\n",
    "    # Second pooling layer.\n",
    "    with tf.name_scope('pool2'):\n",
    "        h_pool2 = max_pool_2x2(h_conv2)\n",
    "    #print(\"h_pool2\", h_pool2.shape)\n",
    "    # Fully connected layer 1 -- after 2 round of downsampling, our 28x28 image\n",
    "    # is down to 5x3x64 feature maps -- maps this to 1024 features.\n",
    "    with tf.name_scope('fc1'):\n",
    "        W_fc1 = weight_variable([5 * 3 * 64, 1024])\n",
    "        b_fc1 = bias_variable([1024])\n",
    "\n",
    "        h_pool2_flat = tf.reshape(h_pool2, [-1, 5 * 3 * 64])\n",
    "        h_fc1 = tf.nn.relu(tf.matmul(h_pool2_flat, W_fc1) + b_fc1)\n",
    "\n",
    "\n",
    "    # Map the 1024 features to 10 classes, one for each digit\n",
    "    with tf.name_scope('fc2'):\n",
    "        W_fc2 = weight_variable([1024, 10])\n",
    "        b_fc2 = bias_variable([10])\n",
    "\n",
    "        y_conv = tf.matmul(h_fc1, W_fc2) + b_fc2\n",
    "    return y_conv, W_conv1"
   ]
  },
  {
   "cell_type": "markdown",
   "metadata": {},
   "source": [
    "b. write the code to train the model written in (a), train for 15 epochs with a  batch size of 128. \n",
    "\n",
    "Loss Function, Accuracy and Training Algorithm\n",
    "\n",
    "- You will use the cross entropy loss function. The loss function is called tf.nn.cross_entropy_with_logits in tensorflow\n",
    "- Accuray is simply defined as the fraction of data correctly classified\n",
    "- For training you should use the AdamOptimizer (read the documentation) and initially pick the learning rate to be 0.05 (if this learning rate does not work, pick different learning rate) with decay step of 0.95 every 2000 iterations as showen in the code below. You are encouraged, to experiment with other optimisation procedures and learning rates. [25 points]\n",
    "    "
   ]
  },
  {
   "cell_type": "code",
   "execution_count": 26,
   "metadata": {
    "collapsed": true
   },
   "outputs": [],
   "source": [
    "# and output diminsion of 10\n",
    "\n",
    "n_input    = 784 \n",
    "n_classes  = 10  \n",
    "\n",
    "# placeholder for input and output, None: means it could be of any diminsion\n",
    "x = tf.placeholder(\"float\", [None, n_input])\n",
    "y = tf.placeholder(\"float\", [None, n_classes])\n",
    "\n",
    "y_conv, W_conv= deepnn(x)\n",
    "\n",
    "# We'll use the cross entropy loss function \n",
    "cross_entropy = tf.reduce_mean(tf.nn.softmax_cross_entropy_with_logits(logits = y_conv, labels= y))\n",
    "\n",
    "# And classification accuracy\n",
    "correct_prediction = tf.equal(tf.argmax(y_conv, 1), tf.argmax(y, 1))\n",
    "accuracy = tf.reduce_mean(tf.cast(correct_prediction, tf.float32))\n",
    "\n",
    "# And the Adam optimiser\n",
    "global_step = tf.Variable(0)\n",
    "learning_rate = tf.train.exponential_decay(0.05, global_step, 2000, 0.95)\n",
    "optimizer = tf.train.AdagradOptimizer(learning_rate).minimize(cross_entropy, global_step=global_step)"
   ]
  },
  {
   "cell_type": "code",
   "execution_count": 28,
   "metadata": {
    "scrolled": false
   },
   "outputs": [
    {
     "name": "stdout",
     "output_type": "stream",
     "text": [
      "WARNING:tensorflow:From E:\\Anaconda\\Anaconda_entity\\lib\\site-packages\\tensorflow\\python\\util\\tf_should_use.py:107: initialize_all_variables (from tensorflow.python.ops.variables) is deprecated and will be removed after 2017-03-02.\n",
      "Instructions for updating:\n",
      "Use `tf.global_variables_initializer` instead.\n",
      "Epoch: 003/015 cost: 0.242161549\n",
      "Train Accuracy: 0.898\n",
      "Valid Accuracy: 0.894\n",
      "Epoch: 006/015 cost: 0.178617277\n",
      "Train Accuracy: 0.945\n",
      "Valid Accuracy: 0.902\n",
      "Epoch: 009/015 cost: 0.137836489\n",
      "Train Accuracy: 0.953\n",
      "Valid Accuracy: 0.904\n",
      "Epoch: 012/015 cost: 0.108114066\n",
      "Train Accuracy: 0.953\n",
      "Valid Accuracy: 0.906\n",
      "Epoch: 015/015 cost: 0.085890086\n",
      "Train Accuracy: 0.961\n",
      "Valid Accuracy: 0.908\n",
      "\n",
      "The best valid Accuracy: 0.908\n",
      "Test Accuracy: 0.961\n",
      "Test error: 0.039\n",
      "optimization finished\n"
     ]
    }
   ],
   "source": [
    " # Start a tf session and run the optimisation algorithm\n",
    "sess = tf.Session()\n",
    "sess.run(tf.initialize_all_variables())\n",
    "save_path = \"/tmp_model/best_model.ckpt\"\n",
    "# use \n",
    "#TODO\n",
    "# Write the optimisation code here\n",
    "training_epochs = 15\n",
    "batch_size      = 128 # use mini-batch, we will disucss this next lecture\n",
    "display_step    = 3 # display results every 4 epochs\n",
    "\n",
    "\n",
    "#create the saver to save the best model.\n",
    "saver = tf.train.Saver()\n",
    "\n",
    "# optimization code, we used here stochastic gradient descent SGD.\n",
    "best_vaild_accs = 0\n",
    "for epoch in range(training_epochs):\n",
    "    sample_num = len(converted_train_dataset)\n",
    "    avg_cost = 0.\n",
    "    total_batch = int(sample_num/batch_size)\n",
    "    # iterate\n",
    "    for i in range(total_batch):\n",
    "        start = i*batch_size\n",
    "        end = i*batch_size + batch_size-1\n",
    "        batch_xs, batch_ys = converted_train_dataset[start:end]\\\n",
    "                            , train_onehot_output[start:end]\n",
    "        feeds = {x: batch_xs, y: batch_ys}\n",
    "        sess.run(optimizer, feed_dict=feeds)\n",
    "        avg_cost += sess.run(cross_entropy, feed_dict=feeds) # to calculate the cost, you can skip\n",
    "    avg_cost = avg_cost / total_batch\n",
    "\n",
    "    #save the best neural network\n",
    "    feeds = {x: batch_xs, y: batch_ys}\n",
    "    train_acc = sess.run(accuracy, feed_dict=feeds)\n",
    "    feeds = {x: converted_valid_dataset, y: valid_onehot_output}\n",
    "    valid_acc = sess.run(accuracy, feed_dict=feeds)\n",
    "    if(valid_acc > best_vaild_accs): \n",
    "        best_vaild_accs = valid_acc\n",
    "        saver.save(sess,save_path)\n",
    "    # display\n",
    "    if (epoch+1) % display_step == 0:\n",
    "        print (\"Epoch: %03d/%03d cost: %.9f\" % (epoch+1, training_epochs, avg_cost))\n",
    "        print (\"Train Accuracy: %.3f\" % (train_acc))\n",
    "        print (\"Valid Accuracy: %.3f\" % (valid_acc))    \n",
    "\n",
    "#get the best neural network\n",
    "saver.restore(sess, save_path)\n",
    "print (\"\\nThe best valid Accuracy: %.3f\" % (best_vaild_accs)) \n",
    "feeds = {x: converted_test_dataset, y: test_onehot_output}\n",
    "test_acc = sess.run(accuracy, feed_dict=feeds)   \n",
    "print (\"Test Accuracy: %.3f\" % (test_acc))\n",
    "print (\"Test error: %.3f\" % (1 - test_acc))\n",
    "print (\"optimization finished\")\n",
    "sess.close()"
   ]
  },
  {
   "cell_type": "markdown",
   "metadata": {},
   "source": [
    "c. [Extra credits] Find better convolutional neural network architecture that give better results (at least enhancment of 3.0%) than the one built in part b (prove experimentally). [15 points]"
   ]
  },
  {
   "cell_type": "code",
   "execution_count": null,
   "metadata": {
    "collapsed": true
   },
   "outputs": [],
   "source": []
  },
  {
   "cell_type": "markdown",
   "metadata": {},
   "source": [
    "d. [Extra credits] Visualize all the 32 filters in the first convolution layer. Each of shape 12x12x1, they might be viewed as greyscale images. [15 points]"
   ]
  },
  {
   "cell_type": "code",
   "execution_count": 44,
   "metadata": {},
   "outputs": [
    {
     "name": "stdout",
     "output_type": "stream",
     "text": [
      "(12, 12, 1, 25)\n"
     ]
    }
   ],
   "source": [
    "initialization = tf.initialize_all_variables()\n",
    "#strat section\n",
    "sess = tf.Session()\n",
    "sess.run(initialization)\n",
    "\n",
    "# Retrieve the values of the  first convolution weights from TensorFlow.\n",
    "weights = sess.run(W_conv)\n",
    "print(weights.shape)\n",
    "input_channel=0"
   ]
  },
  {
   "cell_type": "code",
   "execution_count": 47,
   "metadata": {
    "scrolled": false
   },
   "outputs": [
    {
     "data": {
      "image/png": "[encoded data removed]",
      "text/plain": [
       "<matplotlib.figure.Figure at 0x13a9b0d8d68>"
      ]
     },
     "metadata": {},
     "output_type": "display_data"
    }
   ],
   "source": [
    "\n",
    "# Get the lowest and highest values for the weights.\n",
    "w_min = np.min(weights)\n",
    "w_max = np.max(weights)\n",
    "\n",
    "#get number of filters used in the conv. layer.\n",
    "num_filters = weights.shape[3]\n",
    "\n",
    "# Number of grids to plot.\n",
    "num_grids = math.ceil(math.sqrt(num_filters))\n",
    "\n",
    "\n",
    "fig, axes = plt.subplots(num_grids, num_grids)\n",
    "fig.set_size_inches(8, 6)\n",
    "\n",
    "for i, ax in enumerate(axes.flat):\n",
    "    \n",
    "    if i<num_filters:        \n",
    "        image = weights[:, :, input_channel, i]\n",
    "        ax.imshow(image, vmin=w_min, vmax=w_max,\n",
    "                  interpolation='nearest', cmap='gray')\n",
    "\n",
    "    ax.set_xticks([])\n",
    "    ax.set_yticks([])\n",
    "\n",
    "plt.show()"
   ]
  },
  {
   "cell_type": "code",
   "execution_count": null,
   "metadata": {
    "collapsed": true
   },
   "outputs": [],
   "source": []
  }
 ],
 "metadata": {
  "kernelspec": {
   "display_name": "Python 3",
   "language": "python",
   "name": "python3"
  },
  "language_info": {
   "codemirror_mode": {
    "name": "ipython",
    "version": 3
   },
   "file_extension": ".py",
   "mimetype": "text/x-python",
   "name": "python",
   "nbconvert_exporter": "python",
   "pygments_lexer": "ipython3",
   "version": "3.6.1"
  }
 },
 "nbformat": 4,
 "nbformat_minor": 2
}
