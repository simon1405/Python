{
 "cells": [
  {
   "cell_type": "markdown",
   "metadata": {},
   "source": [
    "# pandas\n",
    "\n",
    "# Python Data Analysis Library\n",
    "\n",
    "pandas is an open source library providing high-performance, easy-to-use data structures and data analysis tools for the Python programming language. Is has two main objects to represents data: Series and DataFrame.\n",
    "\n",
    "Reference:\n",
    "\n",
    "http://pandas.pydata.org/\n",
    "\n"
   ]
  },
  {
   "cell_type": "code",
   "execution_count": 120,
   "metadata": {
    "collapsed": true
   },
   "outputs": [],
   "source": [
    "import numpy as np\n",
    "import matplotlib.pyplot as plt\n",
    "import pandas as pd"
   ]
  },
  {
   "cell_type": "markdown",
   "metadata": {},
   "source": [
    "Working with Series is an array like object.\n",
    "\n",
    "Series is a one-dimensional labeled array capable of holding any data type. \n",
    "\n",
    "\n",
    "pd.Series(self, data=None, index=None, dtype=None, name=None, copy=False, fastpath=False)"
   ]
  },
  {
   "cell_type": "code",
   "execution_count": 121,
   "metadata": {},
   "outputs": [
    {
     "data": {
      "text/plain": [
       "0    1\n",
       "1    2\n",
       "2    3\n",
       "3    4\n",
       "4    5\n",
       "dtype: int64"
      ]
     },
     "execution_count": 121,
     "metadata": {},
     "output_type": "execute_result"
    }
   ],
   "source": [
    "x = pd.Series([1,2,3,4,5])\n",
    "x"
   ]
  },
  {
   "cell_type": "markdown",
   "metadata": {},
   "source": [
    "### Basic Operation"
   ]
  },
  {
   "cell_type": "code",
   "execution_count": 122,
   "metadata": {},
   "outputs": [
    {
     "data": {
      "text/plain": [
       "0    101\n",
       "1    102\n",
       "2    103\n",
       "3    104\n",
       "4    105\n",
       "dtype: int64"
      ]
     },
     "execution_count": 122,
     "metadata": {},
     "output_type": "execute_result"
    }
   ],
   "source": [
    "x + 100"
   ]
  },
  {
   "cell_type": "code",
   "execution_count": 123,
   "metadata": {},
   "outputs": [
    {
     "data": {
      "text/plain": [
       "0    101\n",
       "1    104\n",
       "2    109\n",
       "3    116\n",
       "4    125\n",
       "dtype: int64"
      ]
     },
     "execution_count": 123,
     "metadata": {},
     "output_type": "execute_result"
    }
   ],
   "source": [
    "(x ** 2) + 100"
   ]
  },
  {
   "cell_type": "code",
   "execution_count": 124,
   "metadata": {},
   "outputs": [
    {
     "data": {
      "text/plain": [
       "0    False\n",
       "1    False\n",
       "2     True\n",
       "3     True\n",
       "4     True\n",
       "dtype: bool"
      ]
     },
     "execution_count": 124,
     "metadata": {},
     "output_type": "execute_result"
    }
   ],
   "source": [
    "y = x > 2\n",
    "y"
   ]
  },
  {
   "cell_type": "code",
   "execution_count": 125,
   "metadata": {},
   "outputs": [
    {
     "data": {
      "text/plain": [
       "True"
      ]
     },
     "execution_count": 125,
     "metadata": {},
     "output_type": "execute_result"
    }
   ],
   "source": [
    "y.any()"
   ]
  },
  {
   "cell_type": "code",
   "execution_count": 126,
   "metadata": {},
   "outputs": [
    {
     "data": {
      "text/plain": [
       "False"
      ]
     },
     "execution_count": 126,
     "metadata": {},
     "output_type": "execute_result"
    }
   ],
   "source": [
    "y.all()"
   ]
  },
  {
   "cell_type": "markdown",
   "metadata": {},
   "source": [
    "## apply()"
   ]
  },
  {
   "cell_type": "code",
   "execution_count": 127,
   "metadata": {},
   "outputs": [
    {
     "data": {
      "text/plain": [
       "0     3\n",
       "1     4\n",
       "2     9\n",
       "3     8\n",
       "4    15\n",
       "dtype: int64"
      ]
     },
     "execution_count": 127,
     "metadata": {},
     "output_type": "execute_result"
    }
   ],
   "source": [
    "def ourfunction(x):\n",
    "    if x % 2 == 1:\n",
    "        return x * 3\n",
    "    else:\n",
    "        return x * 2\n",
    "\n",
    "x.apply(ourfunction)"
   ]
  },
  {
   "cell_type": "markdown",
   "metadata": {},
   "source": [
    "### Avoid looping over your data"
   ]
  },
  {
   "cell_type": "code",
   "execution_count": 128,
   "metadata": {},
   "outputs": [
    {
     "name": "stdout",
     "output_type": "stream",
     "text": [
      "1 loop, best of 3: 148 ms per loop\n"
     ]
    }
   ],
   "source": [
    "%%timeit\n",
    "\n",
    "ds = pd.Series(range(10000))\n",
    "\n",
    "for counter in range(len(ds)):\n",
    "    ds[counter] = ourfunction(ds[counter])"
   ]
  },
  {
   "cell_type": "code",
   "execution_count": 129,
   "metadata": {},
   "outputs": [
    {
     "name": "stdout",
     "output_type": "stream",
     "text": [
      "100 loops, best of 3: 5.38 ms per loop\n"
     ]
    }
   ],
   "source": [
    "%%timeit\n",
    "\n",
    "ds = pd.Series(range(10000))\n",
    "\n",
    "ds = ds.apply(ourfunction)"
   ]
  },
  {
   "cell_type": "code",
   "execution_count": 130,
   "metadata": {},
   "outputs": [
    {
     "data": {
      "text/plain": [
       "0    1.0\n",
       "1    2.0\n",
       "2    3.0\n",
       "3    4.0\n",
       "4    5.0\n",
       "dtype: float64"
      ]
     },
     "execution_count": 130,
     "metadata": {},
     "output_type": "execute_result"
    }
   ],
   "source": [
    "x.astype(np.float64)"
   ]
  },
  {
   "cell_type": "markdown",
   "metadata": {},
   "source": [
    "## copy()"
   ]
  },
  {
   "cell_type": "code",
   "execution_count": 131,
   "metadata": {
    "collapsed": true
   },
   "outputs": [],
   "source": [
    "y = x"
   ]
  },
  {
   "cell_type": "code",
   "execution_count": 132,
   "metadata": {},
   "outputs": [
    {
     "data": {
      "text/plain": [
       "1"
      ]
     },
     "execution_count": 132,
     "metadata": {},
     "output_type": "execute_result"
    }
   ],
   "source": [
    "y[0]"
   ]
  },
  {
   "cell_type": "code",
   "execution_count": 133,
   "metadata": {
    "collapsed": true
   },
   "outputs": [],
   "source": [
    "y[0] = 100"
   ]
  },
  {
   "cell_type": "code",
   "execution_count": 134,
   "metadata": {},
   "outputs": [
    {
     "data": {
      "text/plain": [
       "0    100\n",
       "1      2\n",
       "2      3\n",
       "3      4\n",
       "4      5\n",
       "dtype: int64"
      ]
     },
     "execution_count": 134,
     "metadata": {},
     "output_type": "execute_result"
    }
   ],
   "source": [
    "y"
   ]
  },
  {
   "cell_type": "code",
   "execution_count": 135,
   "metadata": {},
   "outputs": [
    {
     "data": {
      "text/plain": [
       "0    100\n",
       "1      2\n",
       "2      3\n",
       "3      4\n",
       "4      5\n",
       "dtype: int64"
      ]
     },
     "execution_count": 135,
     "metadata": {},
     "output_type": "execute_result"
    }
   ],
   "source": [
    "x"
   ]
  },
  {
   "cell_type": "code",
   "execution_count": 136,
   "metadata": {
    "collapsed": true
   },
   "outputs": [],
   "source": [
    "y = x.copy()"
   ]
  },
  {
   "cell_type": "code",
   "execution_count": 137,
   "metadata": {
    "collapsed": true
   },
   "outputs": [],
   "source": [
    "x[0]=1"
   ]
  },
  {
   "cell_type": "code",
   "execution_count": 138,
   "metadata": {},
   "outputs": [
    {
     "data": {
      "text/plain": [
       "0    1\n",
       "1    2\n",
       "2    3\n",
       "3    4\n",
       "4    5\n",
       "dtype: int64"
      ]
     },
     "execution_count": 138,
     "metadata": {},
     "output_type": "execute_result"
    }
   ],
   "source": [
    "x"
   ]
  },
  {
   "cell_type": "code",
   "execution_count": 139,
   "metadata": {},
   "outputs": [
    {
     "data": {
      "text/plain": [
       "0    100\n",
       "1      2\n",
       "2      3\n",
       "3      4\n",
       "4      5\n",
       "dtype: int64"
      ]
     },
     "execution_count": 139,
     "metadata": {},
     "output_type": "execute_result"
    }
   ],
   "source": [
    "y"
   ]
  },
  {
   "cell_type": "code",
   "execution_count": 140,
   "metadata": {},
   "outputs": [
    {
     "data": {
      "text/plain": [
       "count    5.000000\n",
       "mean     3.000000\n",
       "std      1.581139\n",
       "           ...   \n",
       "50%      3.000000\n",
       "75%      4.000000\n",
       "max      5.000000\n",
       "Length: 8, dtype: float64"
      ]
     },
     "execution_count": 140,
     "metadata": {},
     "output_type": "execute_result"
    }
   ],
   "source": [
    "x.describe()"
   ]
  },
  {
   "cell_type": "markdown",
   "metadata": {},
   "source": [
    "# DataFrame\n",
    "### DataFrame is a 2-dimensional labeled data structure with columns of potentially different types.\n",
    "### Series is the datastructure for a single column of a DataFrame.\n",
    "\n",
    "## pd.DataFrame(self, data=None, index=None, columns=None, dtype=None, copy=False)"
   ]
  },
  {
   "cell_type": "code",
   "execution_count": 141,
   "metadata": {
    "collapsed": true
   },
   "outputs": [],
   "source": [
    "data = [1,2,3,4,5,6,7,8,9]\n",
    "df1 = pd.DataFrame(data, columns=[\"col1\"])"
   ]
  },
  {
   "cell_type": "code",
   "execution_count": 142,
   "metadata": {},
   "outputs": [
    {
     "data": {
      "text/plain": [
       "    col1\n",
       "0      1\n",
       "1      2\n",
       "2      3\n",
       "..   ...\n",
       "6      7\n",
       "7      8\n",
       "8      9\n",
       "\n",
       "[9 rows x 1 columns]"
      ]
     },
     "execution_count": 142,
     "metadata": {},
     "output_type": "execute_result"
    }
   ],
   "source": [
    "df1"
   ]
  },
  {
   "cell_type": "markdown",
   "metadata": {},
   "source": [
    "# Selecting Datadf[\"col1\"]"
   ]
  },
  {
   "cell_type": "code",
   "execution_count": 143,
   "metadata": {},
   "outputs": [
    {
     "data": {
      "text/plain": [
       "0    1\n",
       "1    2\n",
       "2    3\n",
       "    ..\n",
       "6    7\n",
       "7    8\n",
       "8    9\n",
       "Name: col1, Length: 9, dtype: int64"
      ]
     },
     "execution_count": 143,
     "metadata": {},
     "output_type": "execute_result"
    }
   ],
   "source": [
    "df1[\"col1\"]"
   ]
  },
  {
   "cell_type": "code",
   "execution_count": 144,
   "metadata": {},
   "outputs": [
    {
     "data": {
      "text/plain": [
       "1"
      ]
     },
     "execution_count": 144,
     "metadata": {},
     "output_type": "execute_result"
    }
   ],
   "source": [
    "df1[\"col1\"][0]"
   ]
  },
  {
   "cell_type": "markdown",
   "metadata": {},
   "source": [
    "## Adding extra columns"
   ]
  },
  {
   "cell_type": "code",
   "execution_count": 145,
   "metadata": {},
   "outputs": [
    {
     "data": {
      "text/plain": [
       "    col1  col1_sequared\n",
       "0      1              1\n",
       "1      2              4\n",
       "2      3              9\n",
       "..   ...            ...\n",
       "6      7             49\n",
       "7      8             64\n",
       "8      9             81\n",
       "\n",
       "[9 rows x 2 columns]"
      ]
     },
     "execution_count": 145,
     "metadata": {},
     "output_type": "execute_result"
    }
   ],
   "source": [
    "df1[\"col1_sequared\"] = df1[\"col1\"] ** 2\n",
    "df1"
   ]
  },
  {
   "cell_type": "code",
   "execution_count": 146,
   "metadata": {},
   "outputs": [
    {
     "data": {
      "text/plain": [
       "    col1  col1_sequared  col1_plus3  col1_factorial\n",
       "0      1              1           4               1\n",
       "1      2              4           5               2\n",
       "2      3              9           6               6\n",
       "..   ...            ...         ...             ...\n",
       "6      7             49          10            5040\n",
       "7      8             64          11           40320\n",
       "8      9             81          12          362880\n",
       "\n",
       "[9 rows x 4 columns]"
      ]
     },
     "execution_count": 146,
     "metadata": {},
     "output_type": "execute_result"
    }
   ],
   "source": [
    "df1[\"col1_plus3\"] = df1[\"col1\"] + 3\n",
    "df1[\"col1_factorial\"] = df1[\"col1\"].apply(np.math.factorial)\n",
    "df1"
   ]
  },
  {
   "cell_type": "code",
   "execution_count": 147,
   "metadata": {},
   "outputs": [
    {
     "data": {
      "text/plain": [
       "    col1  col1_sequared  col1_plus3  col1_factorial  is_even\n",
       "0      1              1           4               1        1\n",
       "1      2              4           5               2        0\n",
       "2      3              9           6               6        1\n",
       "..   ...            ...         ...             ...      ...\n",
       "6      7             49          10            5040        1\n",
       "7      8             64          11           40320        0\n",
       "8      9             81          12          362880        1\n",
       "\n",
       "[9 rows x 5 columns]"
      ]
     },
     "execution_count": 147,
     "metadata": {},
     "output_type": "execute_result"
    }
   ],
   "source": [
    "df1[\"is_even\"] = df1[\"col1\"] % 2\n",
    "df1"
   ]
  },
  {
   "cell_type": "markdown",
   "metadata": {},
   "source": [
    "# map()"
   ]
  },
  {
   "cell_type": "code",
   "execution_count": 148,
   "metadata": {},
   "outputs": [
    {
     "data": {
      "text/plain": [
       "    col1  col1_sequared  col1_plus3  col1_factorial  is_even odd_even\n",
       "0      1              1           4               1        1      odd\n",
       "1      2              4           5               2        0     even\n",
       "2      3              9           6               6        1      odd\n",
       "..   ...            ...         ...             ...      ...      ...\n",
       "6      7             49          10            5040        1      odd\n",
       "7      8             64          11           40320        0     even\n",
       "8      9             81          12          362880        1      odd\n",
       "\n",
       "[9 rows x 6 columns]"
      ]
     },
     "execution_count": 148,
     "metadata": {},
     "output_type": "execute_result"
    }
   ],
   "source": [
    "df1[\"odd_even\"] = df1[\"is_even\"].map({1:\"odd\", 0:\"even\"})\n",
    "df1"
   ]
  },
  {
   "cell_type": "markdown",
   "metadata": {},
   "source": [
    "## drop()"
   ]
  },
  {
   "cell_type": "code",
   "execution_count": 149,
   "metadata": {},
   "outputs": [
    {
     "data": {
      "text/plain": [
       "    col1  col1_sequared  col1_plus3  col1_factorial odd_even\n",
       "0      1              1           4               1      odd\n",
       "1      2              4           5               2     even\n",
       "2      3              9           6               6      odd\n",
       "..   ...            ...         ...             ...      ...\n",
       "6      7             49          10            5040      odd\n",
       "7      8             64          11           40320     even\n",
       "8      9             81          12          362880      odd\n",
       "\n",
       "[9 rows x 5 columns]"
      ]
     },
     "execution_count": 149,
     "metadata": {},
     "output_type": "execute_result"
    }
   ],
   "source": [
    "df1 = df1.drop(\"is_even\", 1)\n",
    "df1"
   ]
  },
  {
   "cell_type": "markdown",
   "metadata": {},
   "source": [
    "## Multi Column Select"
   ]
  },
  {
   "cell_type": "code",
   "execution_count": 150,
   "metadata": {},
   "outputs": [
    {
     "data": {
      "text/plain": [
       "    col1 odd_even\n",
       "0      1      odd\n",
       "1      2     even\n",
       "2      3      odd\n",
       "..   ...      ...\n",
       "6      7      odd\n",
       "7      8     even\n",
       "8      9      odd\n",
       "\n",
       "[9 rows x 2 columns]"
      ]
     },
     "execution_count": 150,
     "metadata": {},
     "output_type": "execute_result"
    }
   ],
   "source": [
    "df1[[\"col1\", \"odd_even\"]]"
   ]
  },
  {
   "cell_type": "markdown",
   "metadata": {},
   "source": [
    "## Controlling display options"
   ]
  },
  {
   "cell_type": "code",
   "execution_count": 151,
   "metadata": {},
   "outputs": [
    {
     "data": {
      "text/plain": [
       "    col1  col1_sequared  col1_plus3  col1_factorial odd_even\n",
       "0      1              1           4               1      odd\n",
       "1      2              4           5               2     even\n",
       "2      3              9           6               6      odd\n",
       "..   ...            ...         ...             ...      ...\n",
       "6      7             49          10            5040      odd\n",
       "7      8             64          11           40320     even\n",
       "8      9             81          12          362880      odd\n",
       "\n",
       "[9 rows x 5 columns]"
      ]
     },
     "execution_count": 151,
     "metadata": {},
     "output_type": "execute_result"
    }
   ],
   "source": [
    "pd.options.display.max_columns= 60\n",
    "pd.options.display.max_rows= 6\n",
    "pd.options.display.notebook_repr_html = False\n",
    "df1"
   ]
  },
  {
   "cell_type": "markdown",
   "metadata": {},
   "source": [
    "## Filtering"
   ]
  },
  {
   "cell_type": "code",
   "execution_count": 152,
   "metadata": {
    "scrolled": false
   },
   "outputs": [
    {
     "data": {
      "text/plain": [
       "   col1  col1_sequared  col1_plus3  col1_factorial odd_even\n",
       "0     1              1           4               1      odd\n",
       "2     3              9           6               6      odd\n",
       "4     5             25           8             120      odd\n",
       "6     7             49          10            5040      odd\n",
       "8     9             81          12          362880      odd"
      ]
     },
     "execution_count": 152,
     "metadata": {},
     "output_type": "execute_result"
    }
   ],
   "source": [
    "df1[df1[\"odd_even\"] == \"odd\"]"
   ]
  },
  {
   "cell_type": "markdown",
   "metadata": {},
   "source": [
    "## Chaining Filters\n",
    " \n",
    "## OR"
   ]
  },
  {
   "cell_type": "code",
   "execution_count": 153,
   "metadata": {},
   "outputs": [
    {
     "data": {
      "text/plain": [
       "   col1  col1_sequared  col1_plus3  col1_factorial odd_even\n",
       "0     1              1           4               1      odd\n",
       "1     2              4           5               2     even\n",
       "2     3              9           6               6      odd\n",
       "3     4             16           7              24     even\n",
       "5     6             36           9             720     even\n",
       "7     8             64          11           40320     even"
      ]
     },
     "execution_count": 153,
     "metadata": {},
     "output_type": "execute_result"
    }
   ],
   "source": [
    "df1[(df1.odd_even == \"even\") | (df1.col1  < 5)]"
   ]
  },
  {
   "cell_type": "markdown",
   "metadata": {},
   "source": [
    "# &And"
   ]
  },
  {
   "cell_type": "code",
   "execution_count": 154,
   "metadata": {},
   "outputs": [
    {
     "data": {
      "text/plain": [
       "   col1  col1_sequared  col1_plus3  col1_factorial odd_even\n",
       "1     2              4           5               2     even\n",
       "3     4             16           7              24     even"
      ]
     },
     "execution_count": 154,
     "metadata": {},
     "output_type": "execute_result"
    }
   ],
   "source": [
    "df1[(df1.odd_even == \"even\") & (df1.col1 < 5)]"
   ]
  },
  {
   "cell_type": "markdown",
   "metadata": {},
   "source": [
    "## Furter Chaining"
   ]
  },
  {
   "cell_type": "code",
   "execution_count": 155,
   "metadata": {},
   "outputs": [
    {
     "data": {
      "text/plain": [
       "1    5\n",
       "Name: col1_plus3, dtype: int64"
      ]
     },
     "execution_count": 155,
     "metadata": {},
     "output_type": "execute_result"
    }
   ],
   "source": [
    "df1[(df1.odd_even == \"even\") & (df1.col1 < 5)][\"col1_plus3\"][:1]"
   ]
  },
  {
   "cell_type": "code",
   "execution_count": 156,
   "metadata": {},
   "outputs": [
    {
     "data": {
      "text/plain": [
       "           col1  col1_sequared  col1_plus3  col1_factorial\n",
       "count  9.000000       9.000000    9.000000        9.000000\n",
       "mean   5.000000      31.666667    8.000000    45457.000000\n",
       "std    2.738613      28.080242    2.738613   119758.341137\n",
       "...         ...            ...         ...             ...\n",
       "50%    5.000000      25.000000    8.000000      120.000000\n",
       "75%    7.000000      49.000000   10.000000     5040.000000\n",
       "max    9.000000      81.000000   12.000000   362880.000000\n",
       "\n",
       "[8 rows x 4 columns]"
      ]
     },
     "execution_count": 156,
     "metadata": {},
     "output_type": "execute_result"
    }
   ],
   "source": [
    "df1.describe()"
   ]
  },
  {
   "cell_type": "markdown",
   "metadata": {},
   "source": [
    "## Reading Data from CSV/TSV Files"
   ]
  },
  {
   "cell_type": "code",
   "execution_count": 157,
   "metadata": {
    "collapsed": true
   },
   "outputs": [],
   "source": [
    "url = \"http://www.google.com/finance/historical?q=TADAWUL:TASI&output=csv\"\n",
    "stocks_data = pd.read_csv(url)"
   ]
  },
  {
   "cell_type": "code",
   "execution_count": 158,
   "metadata": {},
   "outputs": [
    {
     "data": {
      "text/plain": [
       "          Date     Open     High      Low    Close     Volume\n",
       "0    29-Aug-17  7261.84  7274.43  7241.37  7258.64   97604159\n",
       "1    28-Aug-17  7225.18  7265.05  7220.62  7261.84   95380388\n",
       "2    27-Aug-17  7245.66  7259.18  7223.39  7225.18   72825546\n",
       "..         ...      ...      ...      ...      ...        ...\n",
       "242   8-Sep-16  6139.38  6181.62  6136.49  6176.53  104935149\n",
       "243   7-Sep-16  6190.35  6198.40  6123.99  6139.38  114834586\n",
       "244   6-Sep-16  6204.08  6238.27  6174.48  6190.35  118178773\n",
       "\n",
       "[245 rows x 6 columns]"
      ]
     },
     "execution_count": 158,
     "metadata": {},
     "output_type": "execute_result"
    }
   ],
   "source": [
    "stocks_data"
   ]
  },
  {
   "cell_type": "code",
   "execution_count": 159,
   "metadata": {},
   "outputs": [
    {
     "data": {
      "text/plain": [
       "          Date     Open     High      Low    Close     Volume  change_amount  \\\n",
       "0    29-Aug-17  7261.84  7274.43  7241.37  7258.64   97604159          -3.20   \n",
       "1    28-Aug-17  7225.18  7265.05  7220.62  7261.84   95380388          36.66   \n",
       "2    27-Aug-17  7245.66  7259.18  7223.39  7225.18   72825546         -20.48   \n",
       "..         ...      ...      ...      ...      ...        ...            ...   \n",
       "242   8-Sep-16  6139.38  6181.62  6136.49  6176.53  104935149          37.15   \n",
       "243   7-Sep-16  6190.35  6198.40  6123.99  6139.38  114834586         -50.97   \n",
       "244   6-Sep-16  6204.08  6238.27  6174.48  6190.35  118178773         -13.73   \n",
       "\n",
       "     change_percentage  \n",
       "0            -0.000441  \n",
       "1             0.005048  \n",
       "2            -0.002835  \n",
       "..                 ...  \n",
       "242           0.006015  \n",
       "243          -0.008302  \n",
       "244          -0.002218  \n",
       "\n",
       "[245 rows x 8 columns]"
      ]
     },
     "execution_count": 159,
     "metadata": {},
     "output_type": "execute_result"
    }
   ],
   "source": [
    "stocks_data[\"change_amount\"] = stocks_data[\"Close\"] - stocks_data[\"Open\"]\n",
    "stocks_data[\"change_percentage\"] = stocks_data[\"change_amount\"] / stocks_data[\"Close\"]\n",
    "stocks_data"
   ]
  },
  {
   "cell_type": "markdown",
   "metadata": {},
   "source": [
    "# References:\n",
    "\n",
    "http://pandas.pydata.org/\n",
    "\n",
    "http://nbviewer.jupyter.org/github/TwistedHardware/mltutorial/tree/master/notebooks/IPython-Tutorial/"
   ]
  }
 ],
 "metadata": {
  "kernelspec": {
   "display_name": "Python 3",
   "language": "python",
   "name": "python3"
  },
  "language_info": {
   "codemirror_mode": {
    "name": "ipython",
    "version": 3
   },
   "file_extension": ".py",
   "mimetype": "text/x-python",
   "name": "python",
   "nbconvert_exporter": "python",
   "pygments_lexer": "ipython3",
   "version": "3.6.1"
  }
 },
 "nbformat": 4,
 "nbformat_minor": 2
}
