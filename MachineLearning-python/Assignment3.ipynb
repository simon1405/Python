{
 "cells": [
  {
   "cell_type": "markdown",
   "metadata": {},
   "source": [
    "# Getting Python\n",
    "\n",
    "\n",
    "For this course, we are going to use Jupyter notebook as our environment for developing Python code.\n",
    "refer to https://jupyter.readthedocs.io/en/latest/content-quickstart.html on the instructions how to install it, the easiest way is to install from Anaconda (https://www.anaconda.com/download/) website, make sure you install (Version 4.4.0, Release Date: May 31, 2017) with Python 3.6.\n",
    "\n",
    "Also, it is good for the students who are not familiar with python (or they need a quick refreshment) to follow Jim Bagrow tutorial http://bagrow.com/ds1/whirlwindtourpython/00-Title.html. \n",
    "\n",
    "All the assignments to be written in Python 3.6 and can be run using Jupyter on one of the following Internet browsers (Chrome, Safari or Firefox), these are the browsers that officially supported by jupyter.\n",
    "\n",
    "<u> Note: for this assignment, submit your local copy of this page, running on IPython. Submit the file to Blackboard under Assignment1 using this file format:</u> <b>Yourfirstname_lastname_Assignment3.ipynb</b> \n",
    "\n",
    "#### <b>Deadline</b>: <u>Thursday, Nov-02-2017 11:59 PM.</u>\n"
   ]
  },
  {
   "cell_type": "code",
   "execution_count": 1,
   "metadata": {},
   "outputs": [],
   "source": [
    "import numpy as np\n",
    "import matplotlib.pyplot as plt\n",
    "from sklearn import svm, datasets\n",
    "from sklearn.model_selection import cross_val_predict\n",
    "from sklearn import metrics\n",
    "from sklearn.tree import DecisionTreeClassifier\n",
    "from sklearn import preprocessing\n",
    "from sklearn.model_selection import RandomizedSearchCV\n",
    "from sklearn.model_selection import GridSearchCV\n",
    "from sklearn.model_selection import train_test_split\n",
    "import pandas as pd\n",
    "import copy\n",
    "from sklearn.ensemble import RandomForestClassifier"
   ]
  },
  {
   "cell_type": "markdown",
   "metadata": {},
   "source": [
    "# Assignment 3 -- Part 1\n",
    "\n",
    "In this part, you will use SVM from sklearn to classify non-linearly sperable datasets. \n",
    "\n",
    "Hint: Refer to the example in sklearn http://scikit-learn.org/stable/auto_examples/svm/plot_iris.html, you can use this code or part of it in your solutions.\n",
    "\n",
    "Load (using load_breast_cancer) datasets from sklearn (datasets.load_breast_cancer()):\n",
    "\n"
   ]
  },
  {
   "cell_type": "markdown",
   "metadata": {},
   "source": [
    "### Functions"
   ]
  },
  {
   "cell_type": "code",
   "execution_count": 2,
   "metadata": {
    "collapsed": true
   },
   "outputs": [],
   "source": [
    "def make_meshgrid(x, y, h=.02):\n",
    "    \"\"\"Create a mesh of points to plot in\n",
    "\n",
    "    Parameters\n",
    "    ----------\n",
    "    x: data to base x-axis meshgrid on\n",
    "    y: data to base y-axis meshgrid on\n",
    "    h: stepsize for meshgrid, optional\n",
    "\n",
    "    Returns\n",
    "    -------\n",
    "    xx, yy : ndarray\n",
    "    \"\"\"\n",
    "    x_min, x_max = x.min() - 1, x.max() + 1\n",
    "    y_min, y_max = y.min() - 1, y.max() + 1\n",
    "    xx, yy = np.meshgrid(np.arange(x_min, x_max, h),\n",
    "                         np.arange(y_min, y_max, h))\n",
    "    return xx, yy\n",
    "\n",
    "\n",
    "def plot_contours(ax, clf, xx, yy, **params):\n",
    "    \"\"\"Plot the decision boundaries for a classifier.\n",
    "\n",
    "    Parameters\n",
    "    ----------\n",
    "    ax: matplotlib axes object\n",
    "    clf: a classifier\n",
    "    xx: meshgrid ndarray\n",
    "    yy: meshgrid ndarray\n",
    "    params: dictionary of params to pass to contourf, optional\n",
    "    \"\"\"\n",
    "    Z = clf.predict(np.c_[xx.ravel(), yy.ravel()])\n",
    "    Z = Z.reshape(xx.shape)\n",
    "    out = ax.contourf(xx, yy, Z, **params)\n",
    "    return out"
   ]
  },
  {
   "cell_type": "markdown",
   "metadata": {},
   "source": [
    "a. select and evalute the \"best kernal SVM\" and the \"worse kernel SVM\" model could fit this dataset (you can empirically select the hyperparameters values), justify your answer.[15 pts]"
   ]
  },
  {
   "cell_type": "code",
   "execution_count": 3,
   "metadata": {
    "collapsed": true
   },
   "outputs": [],
   "source": [
    "#load the data\n",
    "breast_cancer_dataset = datasets.load_breast_cancer()"
   ]
  },
  {
   "cell_type": "code",
   "execution_count": 4,
   "metadata": {
    "collapsed": true
   },
   "outputs": [],
   "source": [
    "# Take the first two features. We could avoid this by using a two-dim dataset\n",
    "X = preprocessing.scale(breast_cancer_dataset.data)\n",
    "y = breast_cancer_dataset.target\n",
    "\n",
    "# SVM regularization parameter\n",
    "models = [svm.SVC(kernel='linear', C=1e3, random_state = 0),\n",
    "          svm.LinearSVC(C=1e5, random_state = 0),\n",
    "          svm.SVC(kernel='rbf', gamma=1e-6, C=1e6, random_state = 0),\n",
    "          svm.SVC(kernel='poly', degree=3, C=10, random_state = 0)]\n",
    "models = [clf.fit(X, y) for clf in models]"
   ]
  },
  {
   "cell_type": "markdown",
   "metadata": {},
   "source": [
    "### Justification:\n",
    "* I think the linear kernel is worse kernel SVM, rbf kernel is best kernel SVM\n",
    "* I use the cross-validation to test my thought."
   ]
  },
  {
   "cell_type": "code",
   "execution_count": 5,
   "metadata": {},
   "outputs": [
    {
     "name": "stdout",
     "output_type": "stream",
     "text": [
      "The support vector machine Linear kernel :\n",
      "\n",
      "             precision    recall  f1-score   support\n",
      "\n",
      "          0       0.94      0.95      0.95       212\n",
      "          1       0.97      0.97      0.97       357\n",
      "\n",
      "avg / total       0.96      0.96      0.96       569\n",
      "\n",
      "[[202  10]\n",
      " [ 12 345]]\n",
      "\n",
      "The support vector machine Linear SVC :\n",
      "\n",
      "             precision    recall  f1-score   support\n",
      "\n",
      "          0       0.95      0.95      0.95       212\n",
      "          1       0.97      0.97      0.97       357\n",
      "\n",
      "avg / total       0.96      0.96      0.96       569\n",
      "\n",
      "[[202  10]\n",
      " [ 11 346]]\n",
      "\n",
      "The support vector machine RBF :\n",
      "\n",
      "             precision    recall  f1-score   support\n",
      "\n",
      "          0       0.97      0.95      0.96       212\n",
      "          1       0.97      0.98      0.98       357\n",
      "\n",
      "avg / total       0.97      0.97      0.97       569\n",
      "\n",
      "[[201  11]\n",
      " [  6 351]]\n",
      "\n",
      "The support vector machine Poly :\n",
      "\n",
      "             precision    recall  f1-score   support\n",
      "\n",
      "          0       0.99      0.89      0.94       212\n",
      "          1       0.94      0.99      0.97       357\n",
      "\n",
      "avg / total       0.96      0.96      0.96       569\n",
      "\n",
      "[[189  23]\n",
      " [  2 355]]\n",
      "\n"
     ]
    }
   ],
   "source": [
    "#model = LogisticRegression(C =0.001)\n",
    "model_names = ['Linear kernel','Linear SVC', 'RBF', 'Poly']\n",
    "\n",
    "# Evaluate a score by cross-validation, use 5-folds\n",
    "for i in range(len(models)):\n",
    "    print('The support vector machine',model_names[i],':\\n')\n",
    "    y_pred = cross_val_predict(models[i],X, y, cv=5)\n",
    "    print(metrics.classification_report(y, y_pred))\n",
    "    print(metrics.confusion_matrix(y, y_pred))\n",
    "    print()"
   ]
  },
  {
   "cell_type": "markdown",
   "metadata": {},
   "source": [
    "b. report the cross validation accuracy for the \"best kernel SVM\" and the \"worse kernel SVM\" classifier.[15 pts]"
   ]
  },
  {
   "cell_type": "code",
   "execution_count": 6,
   "metadata": {
    "collapsed": true
   },
   "outputs": [],
   "source": [
    "worse_model = svm.LinearSVC(C=1e5, random_state = 0)\n",
    "best_model = svm.SVC(kernel='rbf', gamma=1e-6, C=1e6, random_state = 0)\n",
    "\n",
    "models_b = [worse_model,best_model]\n",
    "\n",
    "models_b = [clf.fit(X, y) for clf in models_b]"
   ]
  },
  {
   "cell_type": "code",
   "execution_count": 7,
   "metadata": {},
   "outputs": [
    {
     "name": "stdout",
     "output_type": "stream",
     "text": [
      "worse kernel SVM :\n",
      "\n",
      "             precision    recall  f1-score   support\n",
      "\n",
      "          0       0.95      0.95      0.95       212\n",
      "          1       0.97      0.97      0.97       357\n",
      "\n",
      "avg / total       0.96      0.96      0.96       569\n",
      "\n",
      "[[202  10]\n",
      " [ 11 346]]\n",
      "\n",
      "best kernel SVM :\n",
      "\n",
      "             precision    recall  f1-score   support\n",
      "\n",
      "          0       0.97      0.95      0.96       212\n",
      "          1       0.97      0.98      0.98       357\n",
      "\n",
      "avg / total       0.97      0.97      0.97       569\n",
      "\n",
      "[[201  11]\n",
      " [  6 351]]\n",
      "\n"
     ]
    }
   ],
   "source": [
    "#model = LogisticRegression(C =0.001)\n",
    "model_names1 = ['worse kernel SVM','best kernel SVM']\n",
    "\n",
    "# Evaluate a score by cross-validation, use 5-folds\n",
    "for i in range(len(model_names1)):\n",
    "    print(model_names1[i],':\\n')\n",
    "    y_pred1 = cross_val_predict(models_b[i],X, y, cv=5)\n",
    "    print(metrics.classification_report(y, y_pred1))\n",
    "    print(metrics.confusion_matrix(y, y_pred1))\n",
    "    print()"
   ]
  },
  {
   "cell_type": "markdown",
   "metadata": {
    "collapsed": true
   },
   "source": [
    "c. Using random search, what is the optimimum hyperparameter values for the \"optimum model\" ?[20 pts]"
   ]
  },
  {
   "cell_type": "code",
   "execution_count": 8,
   "metadata": {},
   "outputs": [
    {
     "name": "stdout",
     "output_type": "stream",
     "text": [
      "0.973637961336\n",
      "2.78255940221e-07\n",
      "215443.469003\n"
     ]
    }
   ],
   "source": [
    "C_range = np.logspace(-2, 9, 10)\n",
    "gamma_range = np.logspace(-9, 2, 10)\n",
    "# specify parameters and distributions to sample from\n",
    "param_dist = {\"gamma\": gamma_range,\n",
    "              \"C\": C_range}\n",
    "# run randomized search\n",
    "n_iter_search = 20\n",
    "random_search = RandomizedSearchCV(best_model, param_distributions=param_dist,\n",
    "                                   n_iter=n_iter_search, n_jobs = -1)\n",
    "\n",
    "random_search.fit(X, y)\n",
    "\n",
    "# summarize the results of the random search\n",
    "print(random_search.best_score_)\n",
    "print(random_search.best_estimator_.gamma)\n",
    "print(random_search.best_estimator_.C)"
   ]
  },
  {
   "cell_type": "markdown",
   "metadata": {},
   "source": [
    "d. (This part for gradaute students only): Randomly select 20 % data for testing and the reset for training. plot the decision surface for \"worse SVM\", \"best SVM\" and \"optimum SVM\" and report the accuracy result for each one, you can use build-in sklean function for visulization.[20 pts]"
   ]
  },
  {
   "cell_type": "code",
   "execution_count": 9,
   "metadata": {},
   "outputs": [
    {
     "data": {
      "text/plain": [
       "(455, 30)"
      ]
     },
     "execution_count": 9,
     "metadata": {},
     "output_type": "execute_result"
    }
   ],
   "source": [
    "#Train and test split\n",
    "X_train, X_test, y_train, y_test = train_test_split(X,y,test_size=0.2, random_state = None)\n",
    "X_train.shape"
   ]
  },
  {
   "cell_type": "code",
   "execution_count": 10,
   "metadata": {},
   "outputs": [
    {
     "name": "stdout",
     "output_type": "stream",
     "text": [
      "SVC with linear kernel :\n",
      "\n",
      "             precision    recall  f1-score   support\n",
      "\n",
      "          0       1.00      0.97      0.99        39\n",
      "          1       0.99      1.00      0.99        75\n",
      "\n",
      "avg / total       0.99      0.99      0.99       114\n",
      "\n",
      "[[38  1]\n",
      " [ 0 75]]\n",
      "SVC with RBF best kernel :\n",
      "\n",
      "             precision    recall  f1-score   support\n",
      "\n",
      "          0       1.00      1.00      1.00        39\n",
      "          1       1.00      1.00      1.00        75\n",
      "\n",
      "avg / total       1.00      1.00      1.00       114\n",
      "\n",
      "[[39  0]\n",
      " [ 0 75]]\n",
      "SVC with RBF optimum kernel  :\n",
      "\n",
      "             precision    recall  f1-score   support\n",
      "\n",
      "          0       1.00      1.00      1.00        39\n",
      "          1       1.00      1.00      1.00        75\n",
      "\n",
      "avg / total       1.00      1.00      1.00       114\n",
      "\n",
      "[[39  0]\n",
      " [ 0 75]]\n"
     ]
    }
   ],
   "source": [
    "models_test = [worse_model,best_model,random_search]\n",
    "titles_test = ('SVC with linear kernel',\n",
    "          'SVC with RBF best kernel',\n",
    "          'SVC with RBF optimum kernel ')\n",
    "for title, model in zip(titles_test, models_test):\n",
    "    print(title,':\\n')\n",
    "    y_pred2 = model.predict(X_test)\n",
    "    print(metrics.classification_report(y_test, y_pred2))\n",
    "    print(metrics.confusion_matrix(y_test, y_pred2))"
   ]
  },
  {
   "cell_type": "code",
   "execution_count": 11,
   "metadata": {},
   "outputs": [
    {
     "data": {
      "image/png": "[encoded data removed]",
      "text/plain": [
       "<matplotlib.figure.Figure at 0x2280dfca780>"
      ]
     },
     "metadata": {},
     "output_type": "display_data"
    }
   ],
   "source": [
    "# SVM regularization parameter\n",
    "plt_models = [worse_model,best_model,random_search]\n",
    "plt_models = [clf.fit(X_train[:,:2], y_train) for clf in plt_models]\n",
    "\n",
    "# title for the plots\n",
    "titles = ('SVC with linear kernel',\n",
    "          'SVC with RBF best kernel',\n",
    "          'SVC with RBF optimum kernel ')\n",
    "\n",
    "# Set-up 2x2 grid for plotting.\n",
    "fig, sub = plt.subplots(1, 3, figsize = (16,4))\n",
    "plt.subplots_adjust(wspace=0.4, hspace=0.4)\n",
    "\n",
    "X0, X1 = X_train[:, 0], X_train[:, 1]\n",
    "xx, yy = make_meshgrid(X0, X1)\n",
    "\n",
    "for clf, title, ax in zip(plt_models, titles, sub.flatten()):\n",
    "    plot_contours(ax, clf, xx, yy,\n",
    "                  cmap=plt.cm.coolwarm, alpha=0.8)\n",
    "    ax.scatter(X0, X1, c=y_train, cmap=plt.cm.coolwarm, s=20, edgecolors='k')\n",
    "    ax.set_xlim(xx.min(), xx.max())\n",
    "    ax.set_ylim(yy.min(), yy.max())\n",
    "    ax.set_xlabel('Sepal length')\n",
    "    ax.set_ylabel('Sepal width')\n",
    "    ax.set_xticks(())\n",
    "    ax.set_yticks(())\n",
    "    ax.set_title(title)\n",
    "\n",
    "plt.show()"
   ]
  },
  {
   "cell_type": "markdown",
   "metadata": {},
   "source": [
    "# Assignment 3 -- Part 2\n",
    "\n",
    "In this part, you will use decision tree from sklearn to classify non-linearly sperable datasets. \n",
    "\n",
    "\n",
    "Load Car Evaluation Data Set from https://archive.ics.uci.edu/ml/machine-learning-databases/car/car.data, read the dataset description and get faimilir with the dataset attributes https://archive.ics.uci.edu/ml/machine-learning-databases/car/car.names\n",
    "\n"
   ]
  },
  {
   "cell_type": "markdown",
   "metadata": {
    "collapsed": true
   },
   "source": [
    "a. Use decision tree to classify the dataset (evaluate cars to one of the four classes unacc, acc, good, v-good), use cross validation to report your results, you can use sklearn.tree.DecisionTreeClassifier .[25 pts]\n"
   ]
  },
  {
   "cell_type": "code",
   "execution_count": 12,
   "metadata": {
    "scrolled": false
   },
   "outputs": [
    {
     "data": {
      "text/html": [
       "<div>\n",
       "<style>\n",
       "    .dataframe thead tr:only-child th {\n",
       "        text-align: right;\n",
       "    }\n",
       "\n",
       "    .dataframe thead th {\n",
       "        text-align: left;\n",
       "    }\n",
       "\n",
       "    .dataframe tbody tr th {\n",
       "        vertical-align: top;\n",
       "    }\n",
       "</style>\n",
       "<table border=\"1\" class=\"dataframe\">\n",
       "  <thead>\n",
       "    <tr style=\"text-align: right;\">\n",
       "      <th></th>\n",
       "      <th>buying</th>\n",
       "      <th>maint</th>\n",
       "      <th>doors</th>\n",
       "      <th>persons</th>\n",
       "      <th>lug_boot</th>\n",
       "      <th>safety</th>\n",
       "      <th>class</th>\n",
       "    </tr>\n",
       "  </thead>\n",
       "  <tbody>\n",
       "    <tr>\n",
       "      <th>0</th>\n",
       "      <td>vhigh</td>\n",
       "      <td>vhigh</td>\n",
       "      <td>2</td>\n",
       "      <td>2</td>\n",
       "      <td>small</td>\n",
       "      <td>low</td>\n",
       "      <td>unacc</td>\n",
       "    </tr>\n",
       "    <tr>\n",
       "      <th>1</th>\n",
       "      <td>vhigh</td>\n",
       "      <td>vhigh</td>\n",
       "      <td>2</td>\n",
       "      <td>2</td>\n",
       "      <td>small</td>\n",
       "      <td>med</td>\n",
       "      <td>unacc</td>\n",
       "    </tr>\n",
       "    <tr>\n",
       "      <th>2</th>\n",
       "      <td>vhigh</td>\n",
       "      <td>vhigh</td>\n",
       "      <td>2</td>\n",
       "      <td>2</td>\n",
       "      <td>small</td>\n",
       "      <td>high</td>\n",
       "      <td>unacc</td>\n",
       "    </tr>\n",
       "    <tr>\n",
       "      <th>3</th>\n",
       "      <td>vhigh</td>\n",
       "      <td>vhigh</td>\n",
       "      <td>2</td>\n",
       "      <td>2</td>\n",
       "      <td>med</td>\n",
       "      <td>low</td>\n",
       "      <td>unacc</td>\n",
       "    </tr>\n",
       "    <tr>\n",
       "      <th>4</th>\n",
       "      <td>vhigh</td>\n",
       "      <td>vhigh</td>\n",
       "      <td>2</td>\n",
       "      <td>2</td>\n",
       "      <td>med</td>\n",
       "      <td>med</td>\n",
       "      <td>unacc</td>\n",
       "    </tr>\n",
       "    <tr>\n",
       "      <th>5</th>\n",
       "      <td>vhigh</td>\n",
       "      <td>vhigh</td>\n",
       "      <td>2</td>\n",
       "      <td>2</td>\n",
       "      <td>med</td>\n",
       "      <td>high</td>\n",
       "      <td>unacc</td>\n",
       "    </tr>\n",
       "    <tr>\n",
       "      <th>6</th>\n",
       "      <td>vhigh</td>\n",
       "      <td>vhigh</td>\n",
       "      <td>2</td>\n",
       "      <td>2</td>\n",
       "      <td>big</td>\n",
       "      <td>low</td>\n",
       "      <td>unacc</td>\n",
       "    </tr>\n",
       "    <tr>\n",
       "      <th>7</th>\n",
       "      <td>vhigh</td>\n",
       "      <td>vhigh</td>\n",
       "      <td>2</td>\n",
       "      <td>2</td>\n",
       "      <td>big</td>\n",
       "      <td>med</td>\n",
       "      <td>unacc</td>\n",
       "    </tr>\n",
       "    <tr>\n",
       "      <th>8</th>\n",
       "      <td>vhigh</td>\n",
       "      <td>vhigh</td>\n",
       "      <td>2</td>\n",
       "      <td>2</td>\n",
       "      <td>big</td>\n",
       "      <td>high</td>\n",
       "      <td>unacc</td>\n",
       "    </tr>\n",
       "    <tr>\n",
       "      <th>9</th>\n",
       "      <td>vhigh</td>\n",
       "      <td>vhigh</td>\n",
       "      <td>2</td>\n",
       "      <td>4</td>\n",
       "      <td>small</td>\n",
       "      <td>low</td>\n",
       "      <td>unacc</td>\n",
       "    </tr>\n",
       "  </tbody>\n",
       "</table>\n",
       "</div>"
      ],
      "text/plain": [
       "  buying  maint doors persons lug_boot safety  class\n",
       "0  vhigh  vhigh     2       2    small    low  unacc\n",
       "1  vhigh  vhigh     2       2    small    med  unacc\n",
       "2  vhigh  vhigh     2       2    small   high  unacc\n",
       "3  vhigh  vhigh     2       2      med    low  unacc\n",
       "4  vhigh  vhigh     2       2      med    med  unacc\n",
       "5  vhigh  vhigh     2       2      med   high  unacc\n",
       "6  vhigh  vhigh     2       2      big    low  unacc\n",
       "7  vhigh  vhigh     2       2      big    med  unacc\n",
       "8  vhigh  vhigh     2       2      big   high  unacc\n",
       "9  vhigh  vhigh     2       4    small    low  unacc"
      ]
     },
     "execution_count": 12,
     "metadata": {},
     "output_type": "execute_result"
    }
   ],
   "source": [
    "#load the data\n",
    "url  = 'https://archive.ics.uci.edu/ml/machine-learning-databases/car/car.data'\n",
    "car_data = pd.read_csv(url, names = ['buying','maint','doors','persons','lug_boot','safety','class'])\n",
    "car_data.head(10)"
   ]
  },
  {
   "cell_type": "code",
   "execution_count": 13,
   "metadata": {
    "scrolled": true
   },
   "outputs": [
    {
     "name": "stdout",
     "output_type": "stream",
     "text": [
      "<class 'pandas.core.frame.DataFrame'>\n",
      "RangeIndex: 1728 entries, 0 to 1727\n",
      "Data columns (total 7 columns):\n",
      "buying      1728 non-null object\n",
      "maint       1728 non-null object\n",
      "doors       1728 non-null object\n",
      "persons     1728 non-null object\n",
      "lug_boot    1728 non-null object\n",
      "safety      1728 non-null object\n",
      "class       1728 non-null object\n",
      "dtypes: object(7)\n",
      "memory usage: 94.6+ KB\n"
     ]
    }
   ],
   "source": [
    "car_data.info()"
   ]
  },
  {
   "cell_type": "markdown",
   "metadata": {},
   "source": [
    "### Convert data\n",
    "**buying and maint:** vhigh = 4  high=3  med=2  low=1  \n",
    "**doors:** 5-more = 6         \n",
    "**persons:** more =5  \n",
    "**lug_boot:** small =1   med=2   big=3  \n",
    "**class:** unacc=1   acc=2  good=3   vgood=4  "
   ]
  },
  {
   "cell_type": "code",
   "execution_count": 14,
   "metadata": {
    "collapsed": true
   },
   "outputs": [],
   "source": [
    "#get the features\n",
    "converted_car_data = copy.deepcopy(car_data)"
   ]
  },
  {
   "cell_type": "code",
   "execution_count": 15,
   "metadata": {
    "collapsed": true
   },
   "outputs": [],
   "source": [
    "#data convert from string to number\n",
    "Data_convert = {'vhigh':4, 'high':3, 'med':2, 'low':1,'5more':6,'more':5,'small':1, 'big':3,'low':1,'high':3\n",
    "                ,'unacc':1, 'acc':2, 'good':3, 'vgood':4}\n",
    "for key in Data_convert:\n",
    "    converted_car_data = converted_car_data.replace(key,Data_convert[key])"
   ]
  },
  {
   "cell_type": "markdown",
   "metadata": {},
   "source": [
    "### Cross validation for DecisionTreeClassifier"
   ]
  },
  {
   "cell_type": "code",
   "execution_count": 16,
   "metadata": {
    "collapsed": true
   },
   "outputs": [],
   "source": [
    "X1 = converted_car_data.iloc[:,:-1].values\n",
    "y1 = converted_car_data.iloc[:,-1:].values\n",
    "y1 = y1[:,0]"
   ]
  },
  {
   "cell_type": "code",
   "execution_count": 17,
   "metadata": {},
   "outputs": [
    {
     "name": "stdout",
     "output_type": "stream",
     "text": [
      "DecisionTreeClassifier :\n",
      "\n",
      "             precision    recall  f1-score   support\n",
      "\n",
      "          1       0.86      0.94      0.90      1210\n",
      "          2       0.59      0.35      0.44       384\n",
      "          3       0.47      0.72      0.57        69\n",
      "          4       0.70      0.78      0.74        65\n",
      "\n",
      "avg / total       0.78      0.79      0.78      1728\n",
      "\n",
      "[[1137   69    4    0]\n",
      " [ 180  133   52   19]\n",
      " [   5   11   50    3]\n",
      " [   0   14    0   51]]\n",
      "\n"
     ]
    }
   ],
   "source": [
    "DT_clf = DecisionTreeClassifier(random_state = 0)\n",
    "DT_clf = DT_clf.fit(X1,y1)\n",
    "\n",
    "print('DecisionTreeClassifier',':\\n')\n",
    "y1_pred = cross_val_predict(DT_clf,X1, y1, cv=5)\n",
    "print(metrics.classification_report(y1, y1_pred))\n",
    "print(metrics.confusion_matrix(y1, y1_pred))\n",
    "print()"
   ]
  },
  {
   "cell_type": "markdown",
   "metadata": {},
   "source": [
    "b. what is the optimum min_samples_split (The minimum number of samples required to split an internal node), does it make sense? why ?[25 pts]\n",
    "\n"
   ]
  },
  {
   "cell_type": "code",
   "execution_count": 18,
   "metadata": {},
   "outputs": [
    {
     "name": "stdout",
     "output_type": "stream",
     "text": [
      "The optimum min_samples_split:2\n"
     ]
    }
   ],
   "source": [
    "DT_model = DecisionTreeClassifier()\n",
    "\n",
    "param_dist = {\"min_samples_split\": [i for i in range(2,len(y1))]}\n",
    "grid = GridSearchCV(estimator=DT_model, param_grid=param_dist)\n",
    "grid.fit(X1,y1)\n",
    "print('The optimum min_samples_split', end=':')\n",
    "print(grid.best_estimator_.min_samples_split)"
   ]
  },
  {
   "cell_type": "markdown",
   "metadata": {},
   "source": [
    "### Answer:\n",
    "The optimum min_samples_split is 2 of Grid Search from 2 to length of samples\n",
    "I think it make sense, because of following reasons:\n",
    "* If you have no sample of a particular feature, then you dont need to split it. In this case, min_samples_split = 0\n",
    "* if you have only 1 smaple of a particular feature, which means it already a singe node leaf so you dont need to split it. In this case, min_samples_split = 1"
   ]
  },
  {
   "cell_type": "markdown",
   "metadata": {},
   "source": [
    "C. (This part for graduate students only): Implement random forest classifer by defining multiple (DecisionTreeClassifier)'s from sklearn, you can use the max_features from DecisionTreeClassifier, compare your results to RandomForestClassifier from sklearn. Note: in this part implement the bagging/ensmble by yourself without calling build-in functions from sklearn (you still can use RandomForestClassifier from sklearn with max_features if you find it needed).[25 pts]"
   ]
  },
  {
   "cell_type": "code",
   "execution_count": 19,
   "metadata": {
    "collapsed": true
   },
   "outputs": [],
   "source": [
    "X1_train, X1_test, y1_train, y1_test = train_test_split(X1,y1,test_size=0.2, random_state = 0)"
   ]
  },
  {
   "cell_type": "markdown",
   "metadata": {},
   "source": [
    "### My random forest:"
   ]
  },
  {
   "cell_type": "code",
   "execution_count": 20,
   "metadata": {
    "collapsed": true
   },
   "outputs": [],
   "source": [
    "def random_forest(X, y, iter_num = 500, X_test = X):\n",
    "    \"\"\"\n",
    "    parameter: \n",
    "        X is the training samples of features.\n",
    "        y is the training samples of class corresponding to X.\n",
    "        iter_num is the number of tree to generate.\n",
    "        X_test is the testing data\n",
    "        \n",
    "    Implent the random forest.\n",
    "    \n",
    "    return:\n",
    "        RF_pred is the final result that prediction of X_test.\n",
    "    \"\"\"\n",
    "    clf_forests = []\n",
    "    y_preds = []\n",
    "    n_features = len(X[0])\n",
    "    sample_num = int(len(X)*0.2)\n",
    "    for i in range(iter_num):\n",
    "        ran_feature = int(n_features*np.random.random()+1 )#pick a random number of feature.\n",
    "        #random pick the sample data.\n",
    "        tra_set = []\n",
    "        pre_set = []\n",
    "        for j in range(sample_num):\n",
    "            ran_ind = int(np.random.random()*sample_num)\n",
    "            tra_set.append(X[ran_ind])\n",
    "            pre_set.append(y[ran_ind])  \n",
    "        tra_set = np.array(tra_set)\n",
    "        pre_set = np.array(pre_set)\n",
    "        \n",
    "        DT_clf = DecisionTreeClassifier(random_state = i, max_features = ran_feature)\n",
    "        DT_clf = DT_clf.fit(tra_set,pre_set)\n",
    "        y_pred =  DT_clf.predict(X_test)      #collect the prediction of each decision tree predict of testing data\n",
    "        y_preds.append(y_pred)\n",
    "        clf_forests.append(DT_clf)\n",
    "    y_preds = np.array(y_preds)\n",
    "    RF_pred = []\n",
    "    temp = {}\n",
    "    for pred in y_preds.T:\n",
    "        temp[list(pred).count(1)] = 1\n",
    "        temp[list(pred).count(2)] = 2\n",
    "        temp[list(pred).count(3)] = 3\n",
    "        temp[list(pred).count(4)] = 4\n",
    "        max_pred = max(list(pred).count(1),list(pred).count(2),list(pred).count(3),list(pred).count(4))\n",
    "        RF_pred.append(temp[max_pred])\n",
    "    RF_pred = np.array(RF_pred)\n",
    "    return RF_pred"
   ]
  },
  {
   "cell_type": "code",
   "execution_count": 21,
   "metadata": {
    "scrolled": false
   },
   "outputs": [
    {
     "name": "stdout",
     "output_type": "stream",
     "text": [
      "             precision    recall  f1-score   support\n",
      "\n",
      "          1       0.95      0.98      0.97       234\n",
      "          2       0.87      0.82      0.85        84\n",
      "          3       0.65      0.69      0.67        16\n",
      "          4       0.80      0.67      0.73        12\n",
      "\n",
      "avg / total       0.92      0.92      0.92       346\n",
      "\n",
      "[[229   5   0   0]\n",
      " [ 11  69   2   2]\n",
      " [  0   5  11   0]\n",
      " [  0   0   4   8]]\n",
      "\n"
     ]
    }
   ],
   "source": [
    "my_RF_pred = random_forest(X1_train,y1_train,iter_num = 500, X_test = X1_test)\n",
    "\n",
    "print(metrics.classification_report(my_RF_pred , y1_test))\n",
    "print(metrics.confusion_matrix(my_RF_pred , y1_test))\n",
    "print()"
   ]
  },
  {
   "cell_type": "markdown",
   "metadata": {},
   "source": [
    "### Random forest from sklearn"
   ]
  },
  {
   "cell_type": "code",
   "execution_count": 22,
   "metadata": {
    "scrolled": true
   },
   "outputs": [
    {
     "name": "stdout",
     "output_type": "stream",
     "text": [
      "RandomForestClassifier from sklearn :\n",
      "\n",
      "             precision    recall  f1-score   support\n",
      "\n",
      "          1       0.98      1.00      0.99       240\n",
      "          2       0.95      0.89      0.92        79\n",
      "          3       0.82      0.82      0.82        17\n",
      "          4       0.73      0.80      0.76        10\n",
      "\n",
      "avg / total       0.96      0.96      0.96       346\n",
      "\n",
      "[[239   1   0   0]\n",
      " [  5  70   3   1]\n",
      " [  0   1  14   2]\n",
      " [  0   2   0   8]]\n",
      "\n"
     ]
    }
   ],
   "source": [
    "RF_clf = RandomForestClassifier( random_state=0)\n",
    "RF_clf.fit(X1_train,y1_train)\n",
    "print('RandomForestClassifier from sklearn',':\\n')\n",
    "y1_pred_rf = RF_clf.predict(X1_test)\n",
    "print(metrics.classification_report(y1_test, y1_pred_rf))\n",
    "print(metrics.confusion_matrix(y1_test, y1_pred_rf))\n",
    "print()"
   ]
  },
  {
   "cell_type": "code",
   "execution_count": null,
   "metadata": {
    "collapsed": true
   },
   "outputs": [],
   "source": []
  }
 ],
 "metadata": {
  "kernelspec": {
   "display_name": "Python 3",
   "language": "python",
   "name": "python3"
  },
  "language_info": {
   "codemirror_mode": {
    "name": "ipython",
    "version": 3
   },
   "file_extension": ".py",
   "mimetype": "text/x-python",
   "name": "python",
   "nbconvert_exporter": "python",
   "pygments_lexer": "ipython3",
   "version": "3.6.1"
  }
 },
 "nbformat": 4,
 "nbformat_minor": 2
}
